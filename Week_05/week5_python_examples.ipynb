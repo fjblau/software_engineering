{
 "cells": [
  {
   "cell_type": "markdown",
   "metadata": {},
   "source": [
    "# Week 5: Web Fundamentals - Python Examples\n",
    "## Topics: Package Management, Web Concepts, HTTP, REST APIs"
   ]
  },
  {
   "cell_type": "markdown",
   "metadata": {},
   "source": [
    "## 1. Understanding Package Management"
   ]
  },
  {
   "cell_type": "code",
   "execution_count": null,
   "metadata": {},
   "outputs": [],
   "source": [
    "print(\"=== Package Management ===\")\n",
    "print()\n",
    "print(\"What is a Package Manager?\")\n",
    "print(\"  A tool that installs, manages, and updates code libraries\")\n",
    "print()\n",
    "print(\"Package Managers:\")\n",
    "print(\"  Python: pip (Python Package Index)\")\n",
    "print(\"  JavaScript: npm (Node Package Manager), yarn\")\n",
    "print()\n",
    "print(\"Benefits:\")\n",
    "print(\"  - Automatically download and install dependencies\")\n",
    "print(\"  - Manage version compatibility\")\n",
    "print(\"  - Handle transitive dependencies\")\n",
    "print(\"  - Reproducible builds across environments\")\n",
    "print(\"  - Easy to update packages\")"
   ]
  },
  {
   "cell_type": "markdown",
   "metadata": {},
   "source": [
    "## 2. pip - Python Package Manager"
   ]
  },
  {
   "cell_type": "code",
   "execution_count": null,
   "metadata": {},
   "outputs": [],
   "source": [
    "print(\"=== pip Commands ===\")\n",
    "print()\n",
    "print(\"Basic Commands:\")\n",
    "print(\"  pip install package_name\")\n",
    "print(\"    Install a package from PyPI\")\n",
    "print()\n",
    "print(\"  pip install package_name==1.0.0\")\n",
    "print(\"    Install specific version\")\n",
    "print()\n",
    "print(\"  pip install -r requirements.txt\")\n",
    "print(\"    Install all packages listed in file\")\n",
    "print()\n",
    "print(\"  pip list\")\n",
    "print(\"    Show all installed packages\")\n",
    "print()\n",
    "print(\"  pip show package_name\")\n",
    "print(\"    Show information about a package\")\n",
    "print()\n",
    "print(\"  pip uninstall package_name\")\n",
    "print(\"    Remove a package\")\n",
    "print()\n",
    "print(\"  pip upgrade package_name\")\n",
    "print(\"    Update package to latest version\")"
   ]
  },
  {
   "cell_type": "markdown",
   "metadata": {},
   "source": [
    "## 3. Requirements.txt - Dependency Management"
   ]
  },
  {
   "cell_type": "code",
   "execution_count": null,
   "metadata": {},
   "outputs": [],
   "source": [
    "# Example requirements.txt content:\n",
    "requirements_example = \"\"\"\n# Web Framework\nFlask==3.0.0\nDjango==4.2.0\n\n# HTTP Client\nrequests==2.31.0\n\n# Testing\npytest==7.4.3\npytest-cov==4.1.0\n\n# Data Processing\npandas==2.0.0\nnumpy==1.24.0\n\n# Database\nsqlalchemy==2.0.0\npsycopg2-binary==2.9.0\n\n# Environment\npython-dotenv==1.0.0\n\"\"\"\n\nprint(\"Example requirements.txt:\")\nprint(requirements_example)\n\nprint(\"Semantic Versioning:\")\nprint(\"  1.0.0 = Major.Minor.Patch\")\nprint()\nprint(\"  ==1.0.0   Exact version\")\nprint(\"  >=1.0.0   1.0.0 or newer\")\nprint(\"  ~=1.0.0   Compatible release (1.0.x)\")\nprint(\"  >=1.0.0,<2.0.0   Version range\")"
   ]
  },
  {
   "cell_type": "markdown",
   "metadata": {},
   "source": [
    "## 4. Virtual Environments (venv)"
   ]
  },
  {
   "cell_type": "code",
   "execution_count": null,
   "metadata": {},
   "outputs": [],
   "source": [
    "print(\"=== Virtual Environments ===\")\n",
    "print()\n",
    "print(\"Why use virtual environments?\")\n",
    "print(\"  - Isolate project dependencies\")\n",
    "print(\"  - Prevent version conflicts\")\n",
    "print(\"  - Different projects can use different versions\")\n",
    "print(\"  - Makes projects reproducible\")\n",
    "print()\n",
    "print(\"Commands:\")\n",
    "print()\n",
    "print(\"  # Create virtual environment\")\n",
    "print(\"  python -m venv venv\")\n",
    "print()\n",
    "print(\"  # Activate (Mac/Linux)\")\n",
    "print(\"  source venv/bin/activate\")\n",
    "print()\n",
    "print(\"  # Activate (Windows)\")\n",
    "print(\"  venv\\\\Scripts\\\\activate\")\n",
    "print()\n",
    "print(\"  # Deactivate\")\n",
    "print(\"  deactivate\")\n",
    "print()\n",
    "print(\"  # Install packages in venv\")\n",
    "print(\"  pip install flask requests\")\n",
    "print()\n",
    "print(\"  # Generate requirements file\")\n",
    "print(\"  pip freeze > requirements.txt\")"
   ]
  },
  {
   "cell_type": "markdown",
   "metadata": {},
   "source": [
    "## 5. HTTP Concepts and Methods"
   ]
  },
  {
   "cell_type": "code",
   "execution_count": null,
   "metadata": {},
   "outputs": [],
   "source": [
    "http_methods = {\n",
    "    \"GET\": {\n",
    "        \"description\": \"Retrieve data from server\",\n",
    "        \"usage\": \"Fetching web pages, API data\",\n",
    "        \"body\": \"No body\",\n",
    "        \"safe\": True,\n",
    "        \"idempotent\": True\n",
    "    },\n",
    "    \"POST\": {\n",
    "        \"description\": \"Send data to create new resource\",\n",
    "        \"usage\": \"Submitting forms, creating records\",\n",
    "        \"body\": \"Contains data\",\n",
    "        \"safe\": False,\n",
    "        \"idempotent\": False\n",
    "    },\n",
    "    \"PUT\": {\n",
    "        \"description\": \"Replace entire resource\",\n",
    "        \"usage\": \"Updating user profile\",\n",
    "        \"body\": \"Contains full data\",\n",
    "        \"safe\": False,\n",
    "        \"idempotent\": True\n",
    "    },\n",
    "    \"DELETE\": {\n",
    "        \"description\": \"Remove resource\",\n",
    "        \"usage\": \"Deleting posts, accounts\",\n",
    "        \"body\": \"Usually no body\",\n",
    "        \"safe\": False,\n",
    "        \"idempotent\": True\n",
    "    },\n",
    "    \"PATCH\": {\n",
    "        \"description\": \"Partially update resource\",\n",
    "        \"usage\": \"Partial updates\",\n",
    "        \"body\": \"Contains partial data\",\n",
    "        \"safe\": False,\n",
    "        \"idempotent\": True\n",
    "    }\n",
    "}\n",
    "\n",
    "print(\"=== HTTP Methods ===\")\n",
    "print()\n",
    "for method, details in http_methods.items():\n",
    "    print(f\"{method}:\")\n",
    "    print(f\"  Description: {details['description']}\")\n",
    "    print(f\"  Usage: {details['usage']}\")\n",
    "    print(f\"  Safe: {details['safe']}, Idempotent: {details['idempotent']}\")\n",
    "    print()"
   ]
  },
  {
   "cell_type": "markdown",
   "metadata": {},
   "source": [
    "## 6. HTTP Status Codes"
   ]
  },
  {
   "cell_type": "code",
   "execution_count": null,
   "metadata": {},
   "outputs": [],
   "source": [
    "status_codes = {\n",
    "    \"2xx Success\": {\n",
    "        200: \"OK - Request successful\",\n",
    "        201: \"Created - Resource created successfully\",\n",
    "        204: \"No Content - Success with no content to return\"\n",
    "    },\n",
    "    \"3xx Redirection\": {\n",
    "        301: \"Moved Permanently - Resource at new URL\",\n",
    "        302: \"Found - Temporary redirect\",\n",
    "        304: \"Not Modified - Use cached version\"\n",
    "    },\n",
    "    \"4xx Client Error\": {\n",
    "        400: \"Bad Request - Invalid request syntax\",\n",
    "        401: \"Unauthorized - Authentication required\",\n",
    "        403: \"Forbidden - No permission\",\n",
    "        404: \"Not Found - Resource doesn't exist\",\n",
    "        409: \"Conflict - Request conflicts with current state\",\n",
    "        429: \"Too Many Requests - Rate limit exceeded\"\n",
    "    },\n",
    "    \"5xx Server Error\": {\n",
    "        500: \"Internal Server Error - Server error\",\n",
    "        502: \"Bad Gateway - Invalid upstream response\",\n",
    "        503: \"Service Unavailable - Server temporarily down\"\n",
    "    }\n",
    "}\n",
    "\n",
    "print(\"=== HTTP Status Codes ===\")\n",
    "print()\n",
    "for category, codes in status_codes.items():\n",
    "    print(f\"{category}:\")\n",
    "    for code, message in codes.items():\n",
    "        print(f\"  {code}: {message}\")\n",
    "    print()"
   ]
  },
  {
   "cell_type": "markdown",
   "metadata": {},
   "source": [
    "## 7. Making HTTP Requests with requests library"
   ]
  },
  {
   "cell_type": "code",
   "execution_count": null,
   "metadata": {},
   "outputs": [],
   "source": [
    "# Example of making HTTP requests (would need: pip install requests)\n",
    "request_examples = \"\"\"\nimport requests\n\n# GET request\nresponse = requests.get('https://api.example.com/users')\nprint(response.status_code)  # 200\ndata = response.json()  # Parse JSON response\n\n# GET with parameters\nparams = {'page': 1, 'limit': 10}\nresponse = requests.get('https://api.example.com/users', params=params)\n\n# POST request\npayload = {'name': 'Maria', 'email': 'maria@example.com'}\nresponse = requests.post('https://api.example.com/users', json=payload)\n\n# PUT request (update)\npayload = {'name': 'Maria Schmidt', 'email': 'maria.schmidt@example.com'}\nresponse = requests.put('https://api.example.com/users/1', json=payload)\n\n# DELETE request\nresponse = requests.delete('https://api.example.com/users/1')\n\n# Headers and authentication\nheaders = {'Authorization': 'Bearer token123'}\nresponse = requests.get('https://api.example.com/users', headers=headers)\n\n# Error handling\ntry:\n    response = requests.get('https://api.example.com/users', timeout=5)\n    response.raise_for_status()  # Raise exception for bad status codes\nexcept requests.exceptions.RequestException as e:\n    print(f'Error: {e}')\n\"\"\"\n\nprint(\"Making HTTP Requests with requests library:\")\nprint(request_examples)"
   ]
  },
  {
   "cell_type": "markdown",
   "metadata": {},
   "source": [
    "## 8. Working with APIs and JSON Responses"
   ]
  },
  {
   "cell_type": "code",
   "execution_count": null,
   "metadata": {},
   "outputs": [],
   "source": [
    "import json\n",
    "\n",
    "# Simulated API response\napi_response = {\n",
    "    \"status\": \"success\",\n",
    "    \"data\": {\n",
    "        \"users\": [\n",
    "            {\n",
    "                \"id\": 1,\n",
    "                \"name\": \"Maria Schmidt\",\n",
    "                \"email\": \"maria@example.com\",\n",
    "                \"created_at\": \"2025-03-10\"\n",
    "            },\n",
    "            {\n",
    "                \"id\": 2,\n",
    "                \"name\": \"Hans Mueller\",\n",
    "                \"email\": \"hans@example.com\",\n",
    "                \"created_at\": \"2025-03-11\"\n",
    "            }\n",
    "        ],\n",
    "        \"total\": 2,\n",
    "        \"page\": 1\n",
    "    }\n",
    "}\n",
    "\n",
    "print(\"Working with API Responses:\")\n",
    "print()\n",
    "print(f\"Status: {api_response['status']}\")\n",
    "print(f\"Total users: {api_response['data']['total']}\")\n",
    "print()\n",
    "print(\"Users:\")\n",
    "for user in api_response['data']['users']:\n",
    "    print(f\"  - {user['name']} ({user['email']})\")\n",
    "    print(f\"    Created: {user['created_at']}\")\n",
    "    print()\n",
    "\n",
    "# Convert to JSON string\njson_string = json.dumps(api_response, indent=2)\n",
    "print(\"As JSON string:\")\n",
    "print(json_string)"
   ]
  },
  {
   "cell_type": "markdown",
   "metadata": {},
   "source": [
    "## 9. REST API Design Principles"
   ]
  },
  {
   "cell_type": "code",
   "execution_count": null,
   "metadata": {},
   "outputs": [],
   "source": [
    "print(\"=== REST API Design Principles ===\")\n",
    "print()\n",
    "print(\"Client-Server Separation:\")\n",
    "print(\"  - Client and server are independent\")\n",
    "print(\"  - Can evolve separately\")\n",
    "print()\n",
    "print(\"Stateless:\")\n",
    "print(\"  - Each request contains all needed information\")\n",
    "print(\"  - Server doesn't store client context\")\n",
    "print()\n",
    "print(\"Resource-Based URLs:\")\n",
    "print(\"  GET /api/users - Get all users\")\n",
    "print(\"  GET /api/users/1 - Get user with ID 1\")\n",
    "print(\"  POST /api/users - Create new user\")\n",
    "print(\"  PUT /api/users/1 - Update user 1\")\n",
    "print(\"  DELETE /api/users/1 - Delete user 1\")\n",
    "print()\n",
    "print(\"Correct HTTP Methods:\")\n",
    "print(\"  ✓ GET /users (retrieve)\")\n",
    "print(\"  ✗ GET /getUsers (wrong - use verb in method, not URL)\")\n",
    "print()\n",
    "print(\"Meaningful Status Codes:\")\n",
    "print(\"  ✓ 200 OK for successful GET\")\n",
    "print(\"  ✓ 201 Created for successful POST\")\n",
    "print(\"  ✓ 204 No Content for successful DELETE\")\n",
    "print(\"  ✗ Always returning 200\")"
   ]
  },
  {
   "cell_type": "markdown",
   "metadata": {},
   "source": [
    "## 10. Common Web Frameworks"
   ]
  },
  {
   "cell_type": "code",
   "execution_count": null,
   "metadata": {},
   "outputs": [],
   "source": [
    "frameworks = {\n",
    "    \"Flask\": {\n",
    "        \"type\": \"Micro-framework\",\n",
    "        \"complexity\": \"Simple, lightweight\",\n",
    "        \"best_for\": \"Small projects, APIs, learning\",\n",
    "        \"install\": \"pip install flask\",\n",
    "        \"example\": \"from flask import Flask\\napp = Flask(__name__)\"\n",
    "    },\n",
    "    \"Django\": {\n",
    "        \"type\": \"Full-stack framework\",\n",
    "        \"complexity\": \"Larger, comprehensive\",\n",
    "        \"best_for\": \"Large projects, admin features, rapid development\",\n",
    "        \"install\": \"pip install django\",\n",
    "        \"example\": \"django-admin startproject project_name\"\n",
    "    },\n",
    "    \"FastAPI\": {\n",
    "        \"type\": \"Modern micro-framework\",\n",
    "        \"complexity\": \"Simple but modern\",\n",
    "        \"best_for\": \"APIs, high performance, async\",\n",
    "        \"install\": \"pip install fastapi uvicorn\",\n",
    "        \"example\": \"from fastapi import FastAPI\\napp = FastAPI()\"\n",
    "    }\n",
    "}\n",
    "\n",
    "print(\"=== Python Web Frameworks ===\")\n",
    "print()\n",
    "for name, details in frameworks.items():\n",
    "    print(f\"{name}:\")\n",
    "    print(f\"  Type: {details['type']}\")\n",
    "    print(f\"  Complexity: {details['complexity']}\")\n",
    "    print(f\"  Best for: {details['best_for']}\")\n",
    "    print(f\"  Install: {details['install']}\")\n",
    "    print()"
   ]
  },
  {
   "cell_type": "markdown",
   "metadata": {},
   "source": [
    "## 11. npm (JavaScript Package Manager)"
   ]
  },
  {
   "cell_type": "code",
   "execution_count": null,
   "metadata": {},
   "outputs": [],
   "source": [
    "print(\"=== npm (Node Package Manager) ===\")\n",
    "print()\n",
    "print(\"npm vs pip (Python):\")\n",
    "print()\n",
    "print(\"npm (JavaScript):\")\n",
    "print(\"  npm install package_name\")\n",
    "print(\"  npm install -g package_name (global)\")\n",
    "print(\"  npm update\")\n",
    "print(\"  npm list\")\n",
    "print(\"  npm run script_name\")\n",
    "print(\"  Uses: package.json, package-lock.json\")\n",
    "print()\n",
    "print(\"pip (Python):\")\n",
    "print(\"  pip install package_name\")\n",
    "print(\"  pip install --user package_name (user)\")\n",
    "print(\"  pip upgrade package_name\")\n",
    "print(\"  pip list\")\n",
    "print(\"  Uses: requirements.txt, pip.freeze\")\n",
    "print()\n",
    "print(\"Both are similar in concept:\")\n",
    "print(\"  - Install packages from central registry\")\n",
    "print(\"  - Manage versions and dependencies\")\n",
    "print(\"  - Support virtual environments\")\n",
    "print(\"  - Handle transitive dependencies\")"
   ]
  },
  {
   "cell_type": "markdown",
   "metadata": {},
   "source": [
    "## 12. package.json (npm Configuration)"
   ]
  },
  {
   "cell_type": "code",
   "execution_count": null,
   "metadata": {},
   "outputs": [],
   "source": [
    "import json\n",
    "\n",
    "# Example package.json\npackage_json = {\n",
    "    \"name\": \"portfolio-website\",\n",
    "    \"version\": \"1.0.0\",\n",
    "    \"description\": \"Personal portfolio website\",\n",
    "    \"main\": \"index.html\",\n",
    "    \"scripts\": {\n",
    "        \"start\": \"python -m http.server 8000\",\n",
    "        \"dev\": \"npm run watch\",\n",
    "        \"build\": \"npm run minify\",\n",
    "        \"test\": \"jest\",\n",
    "        \"deploy\": \"gh-pages -d dist\"\n",
    "    },\n",
    "    \"keywords\": [\n",
    "        \"portfolio\",\n",
    "        \"web development\",\n",
    "        \"frontend\"\n",
    "    ],\n",
    "    \"author\": \"Maria Schmidt\",\n",
    "    \"license\": \"MIT\",\n",
    "    \"dependencies\": {\n",
    "        \"axios\": \"^1.4.0\",\n",
    "        \"react\": \"^18.2.0\"\n",
    "    },\n",
    "    \"devDependencies\": {\n",
    "        \"gh-pages\": \"^4.0.0\",\n",
    "        \"jest\": \"^29.0.0\",\n",
    "        \"webpack\": \"^5.0.0\"\n",
    "    }\n",
    "}\n",
    "\n",
    "print(\"Example package.json:\")\n",
    "print(json.dumps(package_json, indent=2))\n",
    "print()\n",
    "print(\"Key sections:\")\n",
    "print(\"  - name: Package name\")\n",
    "print(\"  - version: Semantic version (Major.Minor.Patch)\")\n",
    "print(\"  - scripts: Commands to run (npm run command)\")\n",
    "print(\"  - dependencies: Production dependencies\")\n",
    "print(\"  - devDependencies: Development-only dependencies\")"
   ]
  },
  {
   "cell_type": "markdown",
   "metadata": {},
   "source": [
    "## 13. Web Development Workflow"
   ]
  },
  {
   "cell_type": "code",
   "execution_count": null,
   "metadata": {},
   "outputs": [],
   "source": [
    "workflow_steps = [\n",
    "    (\"Setup\", [\n",
    "        \"Initialize project with package.json or requirements.txt\",\n",
    "        \"Create virtual environment (Python) or npm init (JavaScript)\",\n",
    "        \"Install dependencies\"\n",
    "    ]),\n",
    "    (\"Development\", [\n",
    "        \"Write code (HTML, CSS, JavaScript, Python)\",\n",
    "        \"Run local development server\",\n",
    "        \"Test in browser or with automated tests\"\n",
    "    ]),\n",
    "    (\"Version Control\", [\n",
    "        \"Commit code changes\",\n",
    "        \"Push to repository (GitHub, GitLab, etc.)\",\n",
    "        \"Create pull requests for code review\"\n",
    "    ]),\n",
    "    (\"Deployment\", [\n",
    "        \"Build/minify code for production\",\n",
    "        \"Run tests to ensure quality\",\n",
    "        \"Deploy to web server or hosting platform\"\n",
    "    ]),\n",
    "    (\"Monitoring\", [\n",
    "        \"Monitor errors and performance\",\n",
    "        \"Collect user feedback\",\n",
    "        \"Make updates and patches\"\n",
    "    ])\n",
    "]\n",
    "\n",
    "print(\"=== Modern Web Development Workflow ===\")\n",
    "print()\n",
    "for phase, steps in workflow_steps:\n",
    "    print(f\"{phase}:\")\n",
    "    for i, step in enumerate(steps, 1):\n",
    "        print(f\"  {i}. {step}\")\n",
    "    print()"
   ]
  },
  {
   "cell_type": "markdown",
   "metadata": {},
   "source": [
    "## 14. Semantic Versioning"
   ]
  },
  {
   "cell_type": "code",
   "execution_count": null,
   "metadata": {},
   "outputs": [],
   "source": [
    "versioning_examples = {\n",
    "    \"1.0.0\": \"Major.Minor.Patch\",\n",
    "    \"~1.0.0\": \"Compatible release (1.0.x) - allows patch updates\",\n",
    "    \"^1.0.0\": \"Caret range (1.x.x) - allows minor and patch updates\",\n",
    "    \">=1.0.0\": \"1.0.0 or newer (any version)\",\n",
    "    \">=1.0.0,<2.0.0\": \"Between 1.0.0 and 2.0.0\",\n",
    "    \"1.0.0-alpha\": \"Pre-release version\",\n",
    "    \"1.0.0+build.1\": \"Build metadata\"\n",
    "}\n",
    "\n",
    "print(\"=== Semantic Versioning ===\")\n",
    "print()\n",
    "print(\"Format: MAJOR.MINOR.PATCH\")\n",
    "print()\n",
    "print(\"- MAJOR: Breaking changes\")\n",
    "print(\"- MINOR: New features (backward compatible)\")\n",
    "print(\"- PATCH: Bug fixes (backward compatible)\")\n",
    "print()\n",
    "print(\"Examples:\")\n",
    "for version, description in versioning_examples.items():\n",
    "    print(f\"  {version}: {description}\")"
   ]
  },
  {
   "cell_type": "markdown",
   "metadata": {},
   "source": [
    "## 15. Professional Web Development Checklist"
   ]
  },
  {
   "cell_type": "code",
   "execution_count": null,
   "metadata": {},
   "outputs": [],
   "source": [
    "checklist = {\n",
    "    \"Code Quality\": [\n",
    "        \"Write clean, readable code\",\n",
    "        \"Follow consistent naming conventions\",\n",
    "        \"Add code comments where needed\",\n",
    "        \"DRY principle (Don't Repeat Yourself)\"\n",
    "    ],\n",
    "    \"Testing\": [\n",
    "        \"Write unit tests\",\n",
    "        \"Test API endpoints\",\n",
    "        \"Check for edge cases\",\n",
    "        \"Maintain test coverage\"\n",
    "    ],\n",
    "    \"Git Workflow\": [\n",
    "        \"Use descriptive commit messages\",\n",
    "        \"Create feature branches\",\n",
    "        \"Use pull requests\",\n",
    "        \"Conduct code reviews\"\n",
    "    ],\n",
    "    \"Documentation\": [\n",
    "        \"Write professional README\",\n",
    "        \"Document API endpoints\",\n",
    "        \"Include setup instructions\",\n",
    "        \"Add usage examples\"\n",
    "    ],\n",
    "    \"Security\": [\n",
    "        \"Validate user input\",\n",
    "        \"Use HTTPS\",\n",
    "        \"Never commit secrets\",\n",
    "        \"Keep dependencies updated\"\n",
    "    ],\n",
    "    \"Performance\": [\n",
    "        \"Minimize HTTP requests\",\n",
    "        \"Optimize images and assets\",\n",
    "        \"Use caching effectively\",\n",
    "        \"Monitor load times\"\n",
    "    ]\n",
    "}\n",
    "\n",
    "print(\"=== Professional Web Development Checklist ===\")\n",
    "print()\n",
    "for category, items in checklist.items():\n",
    "    print(f\"{category}:\")\n",
    "    for item in items:\n",
    "        print(f\"  ☐ {item}\")\n",
    "    print()"
   ]
  }
 ],
 "metadata": {
  "kernelspec": {
   "display_name": "Python 3",
   "language": "python",
   "name": "python3"
  },
  "language_info": {
   "codemirror_mode": {
    "name": "ipython",
    "version": 3
   },
   "file_extension": ".py",
   "mimetype": "text/x-python",
   "name": "python",
   "nbconvert_exporter": "python",
   "pygments_lexer": "ipython3",
   "version": "3.8.0"
  }
 },
 "nbformat": 4,
 "nbformat_minor": 4
}