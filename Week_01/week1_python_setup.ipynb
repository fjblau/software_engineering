{
 "cells": [
  {
   "cell_type": "markdown",
   "metadata": {},
   "source": [
    "# Week 1: Python Environment Verification\n",
    "\n",
    "**Purpose:** Verify your Python and Jupyter environment is properly set up.\n",
    "\n",
    "**Time:** ~5 minutes\n",
    "\n",
    "**Instructions:** Run each cell one at a time by clicking the play button or pressing Shift+Enter\n",
    "\n",
    "---"
   ]
  },
  {
   "cell_type": "markdown",
   "metadata": {},
   "source": [
    "## ✅ Check 1: Basic Python Works"
   ]
  },
  {
   "cell_type": "code",
   "execution_count": null,
   "metadata": {},
   "outputs": [],
   "source": [
    "print('Hello from Python!')\n",
    "print('If you see this, your Jupyter kernel is working.')"
   ]
  },
  {
   "cell_type": "markdown",
   "metadata": {},
   "source": [
    "## ✅ Check 2: Python Version"
   ]
  },
  {
   "cell_type": "code",
   "execution_count": null,
   "metadata": {},
   "outputs": [],
   "source": [
    "import sys\n",
    "\n",
    "print('Python Version Information:')\n",
    "print(f'Version: {sys.version_info.major}.{sys.version_info.minor}.{sys.version_info.micro}')\n",
    "\n",
    "if sys.version_info.major >= 3 and sys.version_info.minor >= 8:\n",
    "    print('✓ Python version is suitable for this course')\n",
    "else:\n",
    "    print('⚠️  Python version may be too old')"
   ]
  },
  {
   "cell_type": "markdown",
   "metadata": {},
   "source": [
    "## ✅ Check 3: Platform Information"
   ]
  },
  {
   "cell_type": "code",
   "execution_count": null,
   "metadata": {},
   "outputs": [],
   "source": [
    "import platform\n",
    "\n",
    "print('System Information:')\n",
    "print(f'Operating System: {platform.system()}')\n",
    "print(f'Version: {platform.release()}')\n",
    "print(f'Architecture: {platform.machine()}')\n",
    "print('✓ Platform detection working')"
   ]
  },
  {
   "cell_type": "markdown",
   "metadata": {},
   "source": [
    "## ✅ Check 4: Standard Library Imports"
   ]
  },
  {
   "cell_type": "code",
   "execution_count": null,
   "metadata": {},
   "outputs": [],
   "source": [
    "import os\n",
    "import json\n",
    "from datetime import datetime\n",
    "\n",
    "print('Testing standard library imports...')\n",
    "print('✓ os module')\n",
    "print('✓ json module')\n",
    "print('✓ datetime module')\n",
    "print()\n",
    "print(f'Current time: {datetime.now().strftime(\"%Y-%m-%d %H:%M:%S\")}')\n",
    "print('✓ All basic imports working')"
   ]
  },
  {
   "cell_type": "markdown",
   "metadata": {},
   "source": [
    "## ✅ Check 5: Basic Python Operations"
   ]
  },
  {
   "cell_type": "code",
   "execution_count": null,
   "metadata": {},
   "outputs": [],
   "source": [
    "# Variables\n",
    "name = 'Student'\n",
    "age = 25\n",
    "enrolled = True\n",
    "\n",
    "# List\n",
    "skills = ['Python', 'Git', 'VS Code']\n",
    "\n",
    "# Dictionary\n",
    "info = {'course': 'Bootcamp', 'week': 1}\n",
    "\n",
    "print('Testing basic Python operations...')\n",
    "print('✓ Variables working')\n",
    "print('✓ Lists working')\n",
    "print('✓ Dictionaries working')\n",
    "print('✓ Print statements working')\n",
    "print()\n",
    "print(f'Example: {name} is learning {skills[0]}')"
   ]
  },
  {
   "cell_type": "markdown",
   "metadata": {},
   "source": [
    "## ✅ Check 6: Jupyter Environment"
   ]
  },
  {
   "cell_type": "code",
   "execution_count": null,
   "metadata": {},
   "outputs": [],
   "source": [
    "try:\n",
    "    from IPython import get_ipython\n",
    "    ipython = get_ipython()\n",
    "    \n",
    "    if ipython is not None:\n",
    "        print('✓ Running in Jupyter/IPython environment')\n",
    "    else:\n",
    "        print('ℹ️  Not in Jupyter (might be running as script)')\n",
    "except:\n",
    "    print('ℹ️  IPython not detected')\n",
    "\n",
    "print('✓ This notebook is executing properly')"
   ]
  },
  {
   "cell_type": "markdown",
   "metadata": {},
   "source": [
    "## 📋 Summary"
   ]
  },
  {
   "cell_type": "code",
   "execution_count": null,
   "metadata": {},
   "outputs": [],
   "source": [
    "print('=' * 50)\n",
    "print('  PYTHON ENVIRONMENT VERIFICATION COMPLETE  ')\n",
    "print('=' * 50)\n",
    "print()\n",
    "print('✓ Your Python environment is ready!')\n",
    "print()\n",
    "print('What This Means:')\n",
    "print('  • Python is installed correctly')\n",
    "print('  • Jupyter notebooks are working')\n",
    "print('  • VS Code Python extension is functional')\n",
    "print('  • You can run Python code')\n",
    "print()\n",
    "print('Week 1 Checklist:')\n",
    "print('  ☐ Complete command line exercises')\n",
    "print('  ☐ Set up GitHub account')\n",
    "print('  ☐ Install VS Code extensions')\n",
    "print('  ☐ Create your first Git repository')\n",
    "print('  ☐ Learn Agile concepts')\n",
    "print()\n",
    "print('Remember: Week 1 focuses on SETUP, not coding yet!')\n",
    "print('Python programming comes in later weeks.')\n",
    "print()\n",
    "print('=' * 50)"
   ]
  },
  {
   "cell_type": "markdown",
   "metadata": {},
   "source": [
    "---\n",
    "\n",
    "## 🎯 Week 1 Focus\n",
    "\n",
    "**Week 1 Topics:**\n",
    "- Monday: Command Line basics\n",
    "- Tuesday: Git and GitHub\n",
    "- Wednesday: VS Code setup\n",
    "- Thursday: Agile methodology\n",
    "- Friday: Project management\n",
    "\n",
    "**This notebook** simply verifies your Python environment is ready. Actual Python programming starts in later weeks!\n",
    "\n",
    "**If any cell failed:**\n",
    "1. Try restarting the kernel: Kernel → Restart Kernel\n",
    "2. Make sure Python is installed: Open terminal and type `python --version`\n",
    "3. Ask your instructor for help\n",
    "\n",
    "---"
   ]
  }
 ],
 "metadata": {
  "kernelspec": {
   "display_name": "Python 3",
   "language": "python",
   "name": "python3"
  },
  "language_info": {
   "codemirror_mode": {
    "name": "ipython",
    "version": 3
   },
   "file_extension": ".py",
   "mimetype": "text/x-python",
   "name": "python",
   "nbconvert_exporter": "python",
   "pygments_lexer": "ipython3",
   "version": "3.10.0"
  }
 },
 "nbformat": 4,
 "nbformat_minor": 4
}