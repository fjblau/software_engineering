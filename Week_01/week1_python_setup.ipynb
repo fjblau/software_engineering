{
 "cells": [
  {
   "cell_type": "markdown",
   "metadata": {},
   "source": [
    "# Week 1: Python Environment Setup Verification\n",
    "\n",
    "Run all cells in this notebook to verify your Python development environment is properly configured.\n",
    "\n",
    "---"
   ]
  },
  {
   "cell_type": "markdown",
   "metadata": {},
   "source": [
    "## Check 1: Python Installation"
   ]
  },
  {
   "cell_type": "code",
   "execution_count": null,
   "metadata": {},
   "outputs": [],
   "source": [
    "import sys\n",
    "\n",
    "print('=== Python Environment Verification ===')\n",
    "print()\n",
    "print('Check 1: Python Installation')\n",
    "print('----------------------------')\n",
    "print(f'Python version: {sys.version}')\n",
    "print(f'Expected: Python 3.10 or higher')\n",
    "print('Status: ✓ Python is installed')"
   ]
  },
  {
   "cell_type": "markdown",
   "metadata": {},
   "source": [
    "## Check 2: pip Installation"
   ]
  },
  {
   "cell_type": "code",
   "execution_count": null,
   "metadata": {},
   "outputs": [],
   "source": [
    "import subprocess\n",
    "\n",
    "print('Check 2: pip Installation')\n",
    "print('-------------------------')\n",
    "try:\n",
    "    result = subprocess.run(['pip', '--version'], capture_output=True, text=True)\n",
    "    print(result.stdout)\n",
    "    print('Status: ✓ pip is installed')\n",
    "except Exception as e:\n",
    "    print(f'Status: ✗ pip not found: {e}')"
   ]
  },
  {
   "cell_type": "markdown",
   "metadata": {},
   "source": [
    "## Check 3: Basic Python Features"
   ]
  },
  {
   "cell_type": "code",
   "execution_count": null,
   "metadata": {},
   "outputs": [],
   "source": [
    "print('Check 3: Python Features')\n",
    "print('------------------------')\n",
    "\n",
    "# Variables and Data Types\n",
    "student_name = 'Your Name'\n",
    "age = 25\n",
    "is_bootcamp_student = True\n",
    "\n",
    "print('✓ Variables working (assignment)')\n",
    "print(f'  Student: {student_name}, Age: {age}, Enrolled: {is_bootcamp_student}')\n",
    "\n",
    "# Lists (like JavaScript arrays)\n",
    "skills = ['HTML', 'CSS', 'JavaScript', 'Python']\n",
    "print(f'✓ Lists working: {skills}')\n",
    "\n",
    "# Dictionaries (like JavaScript objects)\n",
    "developer = {\n",
    "    'name': 'Student',\n",
    "    'cohort': 'Feb 2025',\n",
    "    'languages': ['JavaScript', 'Python'],\n",
    "    'ready': True\n",
    "}\n",
    "print(f'✓ Dictionaries working: {developer}')\n",
    "\n",
    "# Functions\n",
    "def greet(name):\n",
    "    return f'Hello, {name}! Welcome to the bootcamp!'\n",
    "\n",
    "print(f'✓ Functions working: {greet(\"Developer\")}')\n",
    "\n",
    "# Lambda Functions (like JavaScript arrow functions)\n",
    "add = lambda a, b: a + b\n",
    "print(f'✓ Lambda functions working: {add(5, 3)}')\n",
    "\n",
    "# F-strings (like JavaScript template literals)\n",
    "message = f'You are learning {\", \".join(skills)}'\n",
    "print(f'✓ F-strings working: {message}')\n",
    "\n",
    "# Unpacking (like JavaScript destructuring)\n",
    "name = developer['name']\n",
    "languages = developer['languages']\n",
    "print(f'✓ Dictionary access working: {name}, {languages}')\n",
    "\n",
    "# Spread operator equivalent\n",
    "more_skills = [*skills, 'React', 'Flask']\n",
    "print(f'✓ List unpacking working: {more_skills}')"
   ]
  },
  {
   "cell_type": "markdown",
   "metadata": {},
   "source": [
    "## Check 4: List Comprehensions (Python Superpower!)"
   ]
  },
  {
   "cell_type": "code",
   "execution_count": null,
   "metadata": {},
   "outputs": [],
   "source": [
    "print('Check 4: List Comprehensions')\n",
    "print('----------------------------')\n",
    "\n",
    "numbers = [1, 2, 3, 4, 5]\n",
    "\n",
    "# Like JavaScript's .map()\n",
    "doubled = [n * 2 for n in numbers]\n",
    "print(f'✓ List comprehension (map): {doubled}')\n",
    "\n",
    "# Like JavaScript's .filter()\n",
    "even_numbers = [n for n in numbers if n % 2 == 0]\n",
    "print(f'✓ List comprehension (filter): {even_numbers}')\n",
    "\n",
    "# Combined filter and map\n",
    "doubled_evens = [n * 2 for n in numbers if n % 2 == 0]\n",
    "print(f'✓ List comprehension (filter + map): {doubled_evens}')"
   ]
  },
  {
   "cell_type": "markdown",
   "metadata": {},
   "source": [
    "## Check 5: Built-in Functions"
   ]
  },
  {
   "cell_type": "code",
   "execution_count": null,
   "metadata": {},
   "outputs": [],
   "source": [
    "print('Check 5: Built-in Functions')\n",
    "print('---------------------------')\n",
    "\n",
    "# Map (similar to JavaScript .map())\n",
    "doubled_map = list(map(lambda x: x * 2, numbers))\n",
    "print(f'✓ map() working: {doubled_map}')\n",
    "\n",
    "# Filter (similar to JavaScript .filter())\n",
    "evens_filter = list(filter(lambda x: x % 2 == 0, numbers))\n",
    "print(f'✓ filter() working: {evens_filter}')\n",
    "\n",
    "# Reduce (similar to JavaScript .reduce())\n",
    "from functools import reduce\n",
    "sum_reduce = reduce(lambda acc, curr: acc + curr, numbers, 0)\n",
    "print(f'✓ reduce() working: {sum_reduce}')\n",
    "\n",
    "# Sum (Python's shortcut)\n",
    "total = sum(numbers)\n",
    "print(f'✓ sum() working: {total}')\n",
    "\n",
    "# Min and Max\n",
    "print(f'✓ min() working: {min(numbers)}')\n",
    "print(f'✓ max() working: {max(numbers)}')"
   ]
  },
  {
   "cell_type": "markdown",
   "metadata": {},
   "source": [
    "## Check 6: File I/O"
   ]
  },
  {
   "cell_type": "code",
   "execution_count": null,
   "metadata": {},
   "outputs": [],
   "source": [
    "print('Check 6: File Operations')\n",
    "print('------------------------')\n",
    "\n",
    "import os\n",
    "\n",
    "# Write to file\n",
    "with open('test_verification.txt', 'w') as f:\n",
    "    f.write('Python environment is working!')\n",
    "print('✓ File write successful')\n",
    "\n",
    "# Read from file\n",
    "with open('test_verification.txt', 'r') as f:\n",
    "    content = f.read()\n",
    "print(f'✓ File read successful: {content}')\n",
    "\n",
    "# Clean up\n",
    "os.remove('test_verification.txt')\n",
    "print('✓ File cleanup successful')"
   ]
  },
  {
   "cell_type": "markdown",
   "metadata": {},
   "source": [
    "## Check 7: JSON Handling"
   ]
  },
  {
   "cell_type": "code",
   "execution_count": null,
   "metadata": {},
   "outputs": [],
   "source": [
    "print('Check 7: JSON Handling')\n",
    "print('----------------------')\n",
    "\n",
    "import json\n",
    "\n",
    "# Python dict to JSON string\n",
    "data = {'name': 'Student', 'week': 1}\n",
    "json_string = json.dumps(data)\n",
    "print(f'✓ json.dumps() working: {json_string}')\n",
    "\n",
    "# JSON string to Python dict\n",
    "parsed = json.loads(json_string)\n",
    "print(f'✓ json.loads() working: {parsed}')"
   ]
  },
  {
   "cell_type": "markdown",
   "metadata": {},
   "source": [
    "## Check 8: Error Handling"
   ]
  },
  {
   "cell_type": "code",
   "execution_count": null,
   "metadata": {},
   "outputs": [],
   "source": [
    "print('Check 8: Error Handling')\n",
    "print('-----------------------')\n",
    "\n",
    "try:\n",
    "    result = 10 / 0\n",
    "except ZeroDivisionError as e:\n",
    "    print(f'✓ Try/except working: Caught {type(e).__name__}')\n",
    "finally:\n",
    "    print('✓ Finally block working')"
   ]
  },
  {
   "cell_type": "markdown",
   "metadata": {},
   "source": [
    "## Check 9: Classes (Object-Oriented Programming)"
   ]
  },
  {
   "cell_type": "code",
   "execution_count": null,
   "metadata": {},
   "outputs": [],
   "source": [
    "print('Check 9: Classes (OOP)')\n",
    "print('----------------------')\n",
    "\n",
    "class Developer:\n",
    "    def __init__(self, name, language):\n",
    "        self.name = name\n",
    "        self.language = language\n",
    "    \n",
    "    def introduce(self):\n",
    "        return f'Hi, I\\'m {self.name} and I code in {self.language}'\n",
    "\n",
    "dev = Developer('Student', 'Python')\n",
    "print(f'✓ Classes working: {dev.introduce()}')"
   ]
  },
  {
   "cell_type": "markdown",
   "metadata": {},
   "source": [
    "## Check 10: Essential Packages"
   ]
  },
  {
   "cell_type": "code",
   "execution_count": null,
   "metadata": {},
   "outputs": [],
   "source": [
    "print('Check 10: Essential Packages')\n",
    "print('----------------------------')\n",
    "\n",
    "# Check if common packages are available\n",
    "packages_to_check = [\n",
    "    'os',\n",
    "    'sys',\n",
    "    'json',\n",
    "    'datetime',\n",
    "    'random',\n",
    "    'math'\n",
    "]\n",
    "\n",
    "for package in packages_to_check:\n",
    "    try:\n",
    "        __import__(package)\n",
    "        print(f'✓ {package} available')\n",
    "    except ImportError:\n",
    "        print(f'✗ {package} not available')"
   ]
  },
  {
   "cell_type": "markdown",
   "metadata": {},
   "source": [
    "## Check 11: Virtual Environment Check"
   ]
  },
  {
   "cell_type": "code",
   "execution_count": null,
   "metadata": {},
   "outputs": [],
   "source": [
    "print('Check 11: Virtual Environment')\n",
    "print('-----------------------------')\n",
    "\n",
    "if hasattr(sys, 'real_prefix') or (hasattr(sys, 'base_prefix') and sys.base_prefix != sys.prefix):\n",
    "    print('✓ Running in virtual environment')\n",
    "    print(f'  Virtual env: {sys.prefix}')\n",
    "else:\n",
    "    print('ℹ Not running in virtual environment (okay for learning)')\n",
    "    print('  To create one: python -m venv venv')\n",
    "    print('  To activate (Mac/Linux): source venv/bin/activate')\n",
    "    print('  To activate (Windows): venv\\\\Scripts\\\\activate')"
   ]
  },
  {
   "cell_type": "markdown",
   "metadata": {},
   "source": [
    "## Final Summary"
   ]
  },
  {
   "cell_type": "code",
   "execution_count": null,
   "metadata": {},
   "outputs": [],
   "source": [
    "print()\n",
    "print('=== Environment Verification Complete ===')\n",
    "print()\n",
    "print('📊 Summary:')\n",
    "print('  ✓ Python and pip installed')\n",
    "print('  ✓ Python features working')\n",
    "print('  ✓ File operations functional')\n",
    "print('  ✓ JSON handling working')\n",
    "print('  ✓ List comprehensions working')\n",
    "print('  ✓ Error handling functional')\n",
    "print('  ✓ Classes (OOP) working')\n",
    "print()\n",
    "print('🎉 Your Python environment is ready!')\n",
    "print()\n",
    "print('📝 Next Steps:')\n",
    "print('  1. Create a virtual environment: python -m venv venv')\n",
    "print('  2. Activate it: source venv/bin/activate (Mac/Linux)')\n",
    "print('  3. Install a package: pip install requests')\n",
    "print('  4. Create requirements.txt: pip freeze > requirements.txt')\n",
    "print('  5. Add venv/ to .gitignore')\n",
    "print('  6. Start building your first project!')\n",
    "print()\n",
    "print('💡 Useful Commands:')\n",
    "print('  python script.py             - Run Python file')\n",
    "print('  python --version             - Check Python version')\n",
    "print('  pip --version                - Check pip version')\n",
    "print('  pip install package-name     - Install a package')\n",
    "print('  pip list                     - List installed packages')\n",
    "print('  pip freeze > requirements.txt - Save dependencies')\n",
    "print()\n",
    "print('=== End of Verification ===')"
   ]
  },
  {
   "cell_type": "markdown",
   "metadata": {},
   "source": [
    "## 🏋️ Practice Exercise\n",
    "\n",
    "Complete the following to practice your Python environment:\n",
    "\n",
    "1. Create a new directory: `mkdir python-practice`\n",
    "2. Navigate to it: `cd python-practice`\n",
    "3. Create virtual environment: `python -m venv venv`\n",
    "4. Activate it: `source venv/bin/activate` (Mac/Linux) or `venv\\Scripts\\activate` (Windows)\n",
    "5. Install a package: `pip install requests`\n",
    "6. Create a simple script that uses the package\n",
    "7. Save dependencies: `pip freeze > requirements.txt`\n",
    "8. Create `.gitignore` and add `venv/`\n",
    "9. Add to git and commit\n",
    "\n",
    "**Submit your python-practice repository to GitHub!**"
   ]
  },
  {
   "cell_type": "markdown",
   "metadata": {},
   "source": [
    "## Python vs JavaScript Comparison\n",
    "\n",
    "### Variables\n",
    "```javascript\n",
    "// JavaScript\n",
    "const name = \"John\";\n",
    "let age = 25;\n",
    "```\n",
    "\n",
    "```python\n",
    "# Python\n",
    "name = \"John\"\n",
    "age = 25\n",
    "```\n",
    "\n",
    "### Arrays/Lists\n",
    "```javascript\n",
    "// JavaScript\n",
    "const skills = ['HTML', 'CSS', 'JS'];\n",
    "skills.push('Python');\n",
    "```\n",
    "\n",
    "```python\n",
    "# Python\n",
    "skills = ['HTML', 'CSS', 'JS']\n",
    "skills.append('Python')\n",
    "```\n",
    "\n",
    "### Objects/Dictionaries\n",
    "```javascript\n",
    "// JavaScript\n",
    "const person = {\n",
    "  name: 'John',\n",
    "  age: 25\n",
    "};\n",
    "```\n",
    "\n",
    "```python\n",
    "# Python\n",
    "person = {\n",
    "  'name': 'John',\n",
    "  'age': 25\n",
    "}\n",
    "```\n",
    "\n",
    "### Functions\n",
    "```javascript\n",
    "// JavaScript\n",
    "function greet(name) {\n",
    "  return `Hello, ${name}!`;\n",
    "}\n",
    "const add = (a, b) => a + b;\n",
    "```\n",
    "\n",
    "```python\n",
    "# Python\n",
    "def greet(name):\n",
    "    return f'Hello, {name}!'\n",
    "\n",
    "add = lambda a, b: a + b\n",
    "```\n",
    "\n",
    "### Array/List Methods\n",
    "```javascript\n",
    "// JavaScript\n",
    "const doubled = numbers.map(n => n * 2);\n",
    "const evens = numbers.filter(n => n % 2 === 0);\n",
    "```\n",
    "\n",
    "```python\n",
    "# Python\n",
    "doubled = [n * 2 for n in numbers]\n",
    "evens = [n for n in numbers if n % 2 == 0]\n",
    "```"
   ]
  }
 ],
 "metadata": {
  "kernelspec": {
   "display_name": "Python 3",
   "language": "python",
   "name": "python3"
  },
  "language_info": {
   "codemirror_mode": {
    "name": "ipython",
    "version": 3
   },
   "file_extension": ".py",
   "mimetype": "text/x-python",
   "name": "python",
   "nbconvert_exporter": "python",
   "pygments_lexer": "ipython3",
   "version": "3.10.0"
  }
 },
 "nbformat": 4,
 "nbformat_minor": 4
}
