{
 "cells": [
  {
   "cell_type": "markdown",
   "metadata": {},
   "source": [
    "# Week 4: Data Structures & Storage - Python Examples\n",
    "## Topics: Lists, Dictionaries, CSV/JSON Processing, Algorithms, JOIN Operations"
   ]
  },
  {
   "cell_type": "markdown",
   "metadata": {},
   "source": [
    "## 1. Lists - Creation and Access"
   ]
  },
  {
   "cell_type": "code",
   "execution_count": null,
   "metadata": {},
   "outputs": [],
   "source": [
    "fruits = ['Apple', 'Banana', 'Cherry', 'Date']\n",
    "print(\"List:\", fruits)\n",
    "print(\"First element:\", fruits[0])  # Apple\n",
    "print(\"Last element:\", fruits[-1])  # Date\n",
    "print(\"List length:\", len(fruits))\n",
    "\n",
    "numbers = [10, 20, 30, 40, 50]\n",
    "print(\"\\nNumbers:\", numbers)\n",
    "print(\"Element at index 2:\", numbers[2])  # 30"
   ]
  },
  {
   "cell_type": "markdown",
   "metadata": {},
   "source": [
    "## 2. List Methods - Mutating"
   ]
  },
  {
   "cell_type": "code",
   "execution_count": null,
   "metadata": {},
   "outputs": [],
   "source": [
    "# Append: Add to end\n",
    "animals = ['Cat', 'Dog']\n",
    "animals.append('Bird')\n",
    "print(\"After append:\", animals)  # ['Cat', 'Dog', 'Bird']\n",
    "\n",
    "# Pop: Remove from end\n",
    "last_animal = animals.pop()\n",
    "print(\"Popped:\", last_animal)  # 'Bird'\n",
    "print(\"After pop:\", animals)  # ['Cat', 'Dog']\n",
    "\n",
    "# Insert: Add at specific position\n",
    "animals.insert(0, 'Elephant')\n",
    "print(\"After insert:\", animals)  # ['Elephant', 'Cat', 'Dog']\n",
    "\n",
    "# Extend: Add multiple items\n",
    "colors = ['Red', 'Green']\n",
    "colors.extend(['Blue', 'Yellow'])\n",
    "print(\"After extend:\", colors)  # ['Red', 'Green', 'Blue', 'Yellow']\n",
    "\n",
    "# Remove: Remove by value\n",
    "colors.remove('Green')\n",
    "print(\"After remove:\", colors)  # ['Red', 'Blue', 'Yellow']"
   ]
  },
  {
   "cell_type": "markdown",
   "metadata": {},
   "source": [
    "## 3. List Methods - Non-Mutating"
   ]
  },
  {
   "cell_type": "code",
   "execution_count": null,
   "metadata": {},
   "outputs": [],
   "source": [
    "numbers = [1, 2, 3, 4, 5]\n",
    "\n",
    "# Slice: Get a portion without modifying\n",
    "sliced = numbers[1:4]  # From index 1 to 3\n",
    "print(\"Original:\", numbers)\n",
    "print(\"Sliced [1:4]:\", sliced)  # [2, 3, 4]\n",
    "\n",
    "# in: Check if value exists\n",
    "has_three = 3 in numbers\n",
    "print(\"Contains 3?\", has_three)  # True\n",
    "\n",
    "# index: Find position\n",
    "index_of_two = numbers.index(2)\n",
    "print(\"Index of 2:\", index_of_two)  # 1\n",
    "\n",
    "# count: Count occurrences\n",
    "repeated = [1, 2, 2, 3, 2, 4]\n",
    "count_twos = repeated.count(2)\n",
    "print(\"Count of 2s:\", count_twos)  # 3"
   ]
  },
  {
   "cell_type": "markdown",
   "metadata": {},
   "source": [
    "## 4. List Comprehensions"
   ]
  },
  {
   "cell_type": "code",
   "execution_count": null,
   "metadata": {},
   "outputs": [],
   "source": [
    "# Basic list comprehension\n",
    "numbers = [1, 2, 3, 4, 5]\n",
    "doubled = [n * 2 for n in numbers]\n",
    "print(\"Doubled:\", doubled)  # [2, 4, 6, 8, 10]\n",
    "\n",
    "# With condition\n",
    "even_numbers = [n for n in numbers if n % 2 == 0]\n",
    "print(\"Even numbers:\", even_numbers)  # [2, 4]\n",
    "\n",
    "# Nested comprehension\n",
    "matrix = [[1, 2, 3], [4, 5, 6], [7, 8, 9]]\n",
    "flattened = [item for row in matrix for item in row]\n",
    "print(\"Flattened:\", flattened)  # [1, 2, 3, 4, 5, 6, 7, 8, 9]\n",
    "\n",
    "# Comprehension with transformation\n",
    "scores = [85, 92, 78, 95, 88]\n",
    "grades = ['A' if s >= 90 else 'B' if s >= 80 else 'C' for s in scores]\n",
    "print(\"Grades:\", grades)"
   ]
  },
  {
   "cell_type": "markdown",
   "metadata": {},
   "source": [
    "## 5. Dictionaries - Creation and Access"
   ]
  },
  {
   "cell_type": "code",
   "execution_count": null,
   "metadata": {},
   "outputs": [],
   "source": [
    "person = {\n",
    "    'name': 'Maria Schmidt',\n",
    "    'age': 28,\n",
    "    'city': 'Feldkirch',\n",
    "    'email': 'maria@example.com'\n",
    "}\n",
    "\n",
    "print(\"Person:\", person)\n",
    "print(\"Name:\", person['name'])\n",
    "print(\"Age:\", person.get('age'))\n",
    "print(\"Country (with default):\", person.get('country', 'Austria'))"
   ]
  },
  {
   "cell_type": "markdown",
   "metadata": {},
   "source": [
    "## 6. Nested Structures"
   ]
  },
  {
   "cell_type": "code",
   "execution_count": null,
   "metadata": {},
   "outputs": [],
   "source": [
    "employee = {\n",
    "    'id': 1001,\n",
    "    'name': 'Hans Mueller',\n",
    "    'department': 'Engineering',\n",
    "    'address': {\n",
    "        'street': 'Hauptstraße 15',\n",
    "        'city': 'Dornbirn',\n",
    "        'country': 'Austria'\n",
    "    },\n",
    "    'skills': ['JavaScript', 'Python', 'SQL'],\n",
    "    'projects': [\n",
    "        {'name': 'Website Redesign', 'hours': 120},\n",
    "        {'name': 'Database Migration', 'hours': 80}\n",
    "    ]\n",
    "}\n",
    "\n",
    "print(\"Employee:\", employee)\n",
    "print(\"Department:\", employee['department'])\n",
    "print(\"City:\", employee['address']['city'])\n",
    "print(\"First skill:\", employee['skills'][0])\n",
    "print(\"First project:\", employee['projects'][0]['name'])"
   ]
  },
  {
   "cell_type": "markdown",
   "metadata": {},
   "source": [
    "## 7. Reading CSV Data"
   ]
  },
  {
   "cell_type": "code",
   "execution_count": null,
   "metadata": {},
   "outputs": [],
   "source": [
    "import csv\n",
    "from io import StringIO\n",
    "\n",
    "# Simulate CSV data\n",
    "csv_text = \"\"\"id,name,department,salary\n",
    "1,Maria Schmidt,Engineering,75000\n",
    "2,Hans Mueller,Sales,60000\n",
    "3,Anna Weber,Marketing,55000\"\"\"\n",
    "\n",
    "# Parse CSV\n",
    "def parse_csv(csv_text):\n",
    "    reader = csv.DictReader(StringIO(csv_text))\n",
    "    return list(reader)\n",
    "\n",
    "employees = parse_csv(csv_text)\n",
    "print(\"Parsed CSV data:\")\n",
    "for emp in employees:\n",
    "    print(f\"  {emp['name']} - {emp['department']} - ${emp['salary']}\")"
   ]
  },
  {
   "cell_type": "markdown",
   "metadata": {},
   "source": [
    "## 8. Converting to JSON"
   ]
  },
  {
   "cell_type": "code",
   "execution_count": null,
   "metadata": {},
   "outputs": [],
   "source": [
    "import json\n",
    "\n",
    "json_string = json.dumps(employees, indent=2)\n",
    "print(\"JSON representation:\")\n",
    "print(json_string)"
   ]
  },
  {
   "cell_type": "markdown",
   "metadata": {},
   "source": [
    "## 9. Filtering and Sorting"
   ]
  },
  {
   "cell_type": "code",
   "execution_count": null,
   "metadata": {},
   "outputs": [],
   "source": [
    "products = [\n",
    "    {'id': 1, 'name': 'Laptop', 'price': 999, 'category': 'Electronics'},\n",
    "    {'id': 2, 'name': 'Mouse', 'price': 29, 'category': 'Electronics'},\n",
    "    {'id': 3, 'name': 'Desk', 'price': 299, 'category': 'Furniture'},\n",
    "    {'id': 4, 'name': 'Chair', 'price': 199, 'category': 'Furniture'}\n",
    "]\n",
    "\n",
    "# Filter by category\n",
    "electronics = [p for p in products if p['category'] == 'Electronics']\n",
    "print(\"Electronics:\", ', '.join([p['name'] for p in electronics]))\n",
    "\n",
    "# Filter by price\n",
    "affordable = [p for p in products if p['price'] < 100]\n",
    "print(\"Under $100:\", ', '.join([p['name'] for p in affordable]))\n",
    "\n",
    "# Sort by price ascending\n",
    "by_price_asc = sorted(products, key=lambda p: p['price'])\n",
    "print(\"Sorted by price (asc):\", ', '.join([f\"{p['name']} (${p['price']})\" for p in by_price_asc]))\n",
    "\n",
    "# Sort by price descending\n",
    "by_price_desc = sorted(products, key=lambda p: p['price'], reverse=True)\n",
    "print(\"Sorted by price (desc):\", ', '.join([p['name'] for p in by_price_desc]))"
   ]
  },
  {
   "cell_type": "markdown",
   "metadata": {},
   "source": [
    "## 10. Search Algorithms"
   ]
  },
  {
   "cell_type": "code",
   "execution_count": null,
   "metadata": {},
   "outputs": [],
   "source": [
    "# Linear search\n",
    "def linear_search(arr, target):\n",
    "    for i, value in enumerate(arr):\n",
    "        if value == target:\n",
    "            return i\n",
    "    return -1\n",
    "\n",
    "test_array = [10, 20, 30, 40, 50]\n",
    "print(\"Linear search for 30:\", linear_search(test_array, 30))  # 2\n",
    "print(\"Linear search for 100:\", linear_search(test_array, 100))  # -1\n",
    "\n",
    "# Find product by ID\n",
    "def find_product_by_id(products, product_id):\n",
    "    for p in products:\n",
    "        if p['id'] == product_id:\n",
    "            return p\n",
    "    return None\n",
    "\n",
    "found = find_product_by_id(products, 3)\n",
    "print(\"Found product:\", found['name'] if found else \"Not found\")  # Desk"
   ]
  },
  {
   "cell_type": "markdown",
   "metadata": {},
   "source": [
    "## 11. Aggregation Functions"
   ]
  },
  {
   "cell_type": "code",
   "execution_count": null,
   "metadata": {},
   "outputs": [],
   "source": [
    "sales = [\n",
    "    {'product': 'Laptop', 'amount': 999},\n",
    "    {'product': 'Mouse', 'amount': 29},\n",
    "    {'product': 'Keyboard', 'amount': 79}\n",
    "]\n",
    "\n",
    "# Sum\n",
    "total_sales = sum(sale['amount'] for sale in sales)\n",
    "print(\"Total sales:\", total_sales)\n",
    "\n",
    "# Average\n",
    "avg_sale = total_sales / len(sales)\n",
    "print(\"Average sale:\", f\"{avg_sale:.2f}\")\n",
    "\n",
    "# Max and Min\n",
    "max_sale = max(sale['amount'] for sale in sales)\n",
    "min_sale = min(sale['amount'] for sale in sales)\n",
    "print(f\"Max: ${max_sale}, Min: ${min_sale}\")\n",
    "\n",
    "# Count by category\n",
    "products_by_category = {}\n",
    "for p in products:\n",
    "    category = p['category']\n",
    "    products_by_category[category] = products_by_category.get(category, 0) + 1\n",
    "print(\"Products by category:\", products_by_category)"
   ]
  },
  {
   "cell_type": "markdown",
   "metadata": {},
   "source": [
    "## 12. Simulating SQL JOIN"
   ]
  },
  {
   "cell_type": "code",
   "execution_count": null,
   "metadata": {},
   "outputs": [],
   "source": [
    "customers = [\n",
    "    {'id': 1, 'name': 'Maria Schmidt', 'city': 'Feldkirch'},\n",
    "    {'id': 2, 'name': 'Hans Mueller', 'city': 'Dornbirn'},\n",
    "    {'id': 3, 'name': 'Anna Weber', 'city': 'Hohenems'}\n",
    "]\n",
    "\n",
    "orders = [\n",
    "    {'id': 101, 'customer_id': 1, 'total': 99.99, 'date': '2025-03-10'},\n",
    "    {'id': 102, 'customer_id': 1, 'total': 149.50, 'date': '2025-03-11'},\n",
    "    {'id': 103, 'customer_id': 2, 'total': 75.00, 'date': '2025-03-12'},\n",
    "    {'id': 104, 'customer_id': 3, 'total': 250.00, 'date': '2025-03-13'}\n",
    "]\n",
    "\n",
    "# JOIN operation: combine customers with their orders\n",
    "def join_customer_orders(customers, orders):\n",
    "    result = []\n",
    "    for customer in customers:\n",
    "        customer_orders = [o for o in orders if o['customer_id'] == customer['id']]\n",
    "        result.append({\n",
    "            **customer,\n",
    "            'orders': customer_orders,\n",
    "            'total_orders': len(customer_orders),\n",
    "            'total_spent': sum(o['total'] for o in customer_orders)\n",
    "        })\n",
    "    return result\n",
    "\n",
    "joined = join_customer_orders(customers, orders)\n",
    "print(\"Customer orders joined:\")\n",
    "for c in joined:\n",
    "    print(f\"  {c['name']}: {c['total_orders']} orders, Total: ${c['total_spent']:.2f}\")"
   ]
  },
  {
   "cell_type": "markdown",
   "metadata": {},
   "source": [
    "## 13. Data Transformation"
   ]
  },
  {
   "cell_type": "code",
   "execution_count": null,
   "metadata": {},
   "outputs": [],
   "source": [
    "# Transform flat data to hierarchical\n",
    "sales_data = [\n",
    "    {'date': '2025-03-10', 'product': 'Laptop', 'amount': 999},\n",
    "    {'date': '2025-03-10', 'product': 'Mouse', 'amount': 29},\n",
    "    {'date': '2025-03-11', 'product': 'Keyboard', 'amount': 79}\n",
    "]\n",
    "\n",
    "# Group by date\n",
    "by_date = {}\n",
    "for sale in sales_data:\n",
    "    date = sale['date']\n",
    "    if date not in by_date:\n",
    "        by_date[date] = []\n",
    "    by_date[date].append(sale)\n",
    "\n",
    "print(\"Sales grouped by date:\")\n",
    "print(json.dumps(by_date, indent=2))"
   ]
  },
  {
   "cell_type": "markdown",
   "metadata": {},
   "source": [
    "## 14. Dictionary Methods"
   ]
  },
  {
   "cell_type": "code",
   "execution_count": null,
   "metadata": {},
   "outputs": [],
   "source": [
    "person = {\n",
    "    'first_name': 'John',\n",
    "    'last_name': 'Doe',\n",
    "    'age': 30,\n",
    "    'city': 'Vienna'\n",
    "}\n",
    "\n",
    "# Get keys\n",
    "keys = person.keys()\n",
    "print(\"Keys:\", list(keys))\n",
    "\n",
    "# Get values\n",
    "values = person.values()\n",
    "print(\"Values:\", list(values))\n",
    "\n",
    "# Get items (key-value pairs)\n",
    "items = person.items()\n",
    "print(\"Items:\")\n",
    "for key, value in items:\n",
    "    print(f\"  {key}: {value}\")"
   ]
  },
  {
   "cell_type": "markdown",
   "metadata": {},
   "source": [
    "## 15. Complex Data Processing Example"
   ]
  },
  {
   "cell_type": "code",
   "execution_count": null,
   "metadata": {},
   "outputs": [],
   "source": [
    "# Real-world example: Process sales data\n",
    "sales_records = [\n",
    "    {'id': 1, 'employee': 'Alice', 'amount': 500, 'region': 'North'},\n",
    "    {'id': 2, 'employee': 'Bob', 'amount': 750, 'region': 'South'},\n",
    "    {'id': 3, 'employee': 'Alice', 'amount': 600, 'region': 'North'},\n",
    "    {'id': 4, 'employee': 'Charlie', 'amount': 450, 'region': 'East'},\n",
    "    {'id': 5, 'employee': 'Bob', 'amount': 800, 'region': 'South'}\n",
    "]\n",
    "\n",
    "# Calculate total by employee\n",
    "by_employee = {}\n",
    "for sale in sales_records:\n",
    "    emp = sale['employee']\n",
    "    if emp not in by_employee:\n",
    "        by_employee[emp] = {'total': 0, 'count': 0}\n",
    "    by_employee[emp]['total'] += sale['amount']\n",
    "    by_employee[emp]['count'] += 1\n",
    "\n",
    "# Calculate averages\n",
    "print(\"Sales by employee:\")\n",
    "for emp, data in sorted(by_employee.items(), key=lambda x: x[1]['total'], reverse=True):\n",
    "    avg = data['total'] / data['count']\n",
    "    print(f\"  {emp}: Total ${data['total']}, Avg ${avg:.2f}\")"
   ]
  }
 ],
 "metadata": {
  "kernelspec": {
   "display_name": "Python 3",
   "language": "python",
   "name": "python3"
  },
  "language_info": {
   "codemirror_mode": {
    "name": "ipython",
    "version": 3
   },
   "file_extension": ".py",
   "mimetype": "text/x-python",
   "name": "python",
   "nbconvert_exporter": "python",
   "pygments_lexer": "ipython3",
   "version": "3.8.0"
  }
 },
 "nbformat": 4,
 "nbformat_minor": 4
}