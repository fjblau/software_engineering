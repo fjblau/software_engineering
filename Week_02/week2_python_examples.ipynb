{
 "cells": [
  {
   "cell_type": "markdown",
   "metadata": {},
   "source": [
    "# Week 2 Python Examples\n",
    "## Programming Fundamentals - Python\n",
    "### Digital Campus Vorarlberg\n",
    "\n",
    "This notebook contains all Python code examples from Week 2 Teacher's Guide."
   ]
  },
  {
   "cell_type": "markdown",
   "metadata": {},
   "source": [
    "## Day 1: Setting Up Your Instruments\n",
    "### Hello World & Basic Syntax"
   ]
  },
  {
   "cell_type": "code",
   "execution_count": null,
   "metadata": {},
   "outputs": [],
   "source": [
    "# Python greet function\n",
    "# This function takes a name parameter and returns a greeting string\n",
    "# Note: Python uses 'def' keyword and indentation (no curly braces)\n",
    "def greet(name):\n",
    "    return f\"Hello, {name}!\"\n",
    "\n",
    "# Call the function and print result\n",
    "print(greet(\"World\"))"
   ]
  },
  {
   "cell_type": "markdown",
   "metadata": {},
   "source": [
    "### Python REPL Examples\n",
    "These are commands you can run in Python's interactive shell"
   ]
  },
  {
   "cell_type": "code",
   "execution_count": null,
   "metadata": {},
   "outputs": [],
   "source": [
    "# Basic arithmetic in Python\n",
    "2 + 2"
   ]
  },
  {
   "cell_type": "code",
   "execution_count": null,
   "metadata": {},
   "outputs": [],
   "source": [
    "# String concatenation\n",
    "\"Hello\" + \" \" + \"World\""
   ]
  },
  {
   "cell_type": "code",
   "execution_count": null,
   "metadata": {},
   "outputs": [],
   "source": [
    "# Variable assignment (no declaration keyword needed in Python)\n",
    "x = 10\n",
    "x * 2"
   ]
  },
  {
   "cell_type": "markdown",
   "metadata": {},
   "source": [
    "### First Python Script - hello.py"
   ]
  },
  {
   "cell_type": "code",
   "execution_count": null,
   "metadata": {},
   "outputs": [],
   "source": [
    "# hello.py - Your first Python script\n",
    "\n",
    "# Print a simple greeting\n",
    "print(\"Hello from Python!\")\n",
    "\n",
    "# Variables in Python don't need type declarations\n",
    "name = \"Developer\"\n",
    "print(\"Welcome, \" + name)\n",
    "\n",
    "# Basic math operations\n",
    "x = 10\n",
    "y = 5\n",
    "print(\"10 + 5 =\", x + y)"
   ]
  },
  {
   "cell_type": "markdown",
   "metadata": {},
   "source": [
    "## Day 2: Variables, Data Types, and Operators\n",
    "### Variable Assignment and Data Types"
   ]
  },
  {
   "cell_type": "code",
   "execution_count": null,
   "metadata": {},
   "outputs": [],
   "source": [
    "# Python Variables - Simple Assignment\n",
    "# Python is dynamically typed - no need to declare type\n",
    "\n",
    "# Numbers\n",
    "age = 25\n",
    "price = 19.99\n",
    "\n",
    "# Strings\n",
    "name = \"Alice\"\n",
    "city = 'Vienna'  # Both single and double quotes work\n",
    "\n",
    "# Booleans (note the capital T and F)\n",
    "is_student = True\n",
    "has_passed = False\n",
    "\n",
    "# Check types\n",
    "print(type(age))        # <class 'int'>\n",
    "print(type(price))      # <class 'float'>\n",
    "print(type(name))       # <class 'str'>\n",
    "print(type(is_student)) # <class 'bool'>"
   ]
  },
  {
   "cell_type": "markdown",
   "metadata": {},
   "source": [
    "### String Operations"
   ]
  },
  {
   "cell_type": "code",
   "execution_count": null,
   "metadata": {},
   "outputs": [],
   "source": [
    "# Python String Methods and Operations\n",
    "\n",
    "name = \"Alice\"\n",
    "\n",
    "# String concatenation\n",
    "greeting = \"Hello, \" + name\n",
    "print(greeting)\n",
    "\n",
    "# String interpolation using f-strings (Python 3.6+)\n",
    "message = f\"My name is {name}\"\n",
    "print(message)\n",
    "\n",
    "# String methods\n",
    "print(name.upper())      # ALICE\n",
    "print(name.lower())      # alice\n",
    "print(len(name))         # 5\n",
    "print(name[0])           # A (first character)\n",
    "print(name[-1])          # e (last character)"
   ]
  },
  {
   "cell_type": "markdown",
   "metadata": {},
   "source": [
    "### Arithmetic Operators"
   ]
  },
  {
   "cell_type": "code",
   "execution_count": null,
   "metadata": {},
   "outputs": [],
   "source": [
    "# Python Arithmetic Operations\n",
    "\n",
    "a = 10\n",
    "b = 3\n",
    "\n",
    "# Basic operations\n",
    "print(a + b)    # 13 - Addition\n",
    "print(a - b)    # 7  - Subtraction\n",
    "print(a * b)    # 30 - Multiplication\n",
    "print(a / b)    # 3.3333... - Division (always returns float)\n",
    "print(a // b)   # 3  - Floor division (integer division)\n",
    "print(a % b)    # 1  - Modulus (remainder)\n",
    "print(a ** b)   # 1000 - Exponentiation (power)"
   ]
  },
  {
   "cell_type": "markdown",
   "metadata": {},
   "source": [
    "### Comparison Operators"
   ]
  },
  {
   "cell_type": "code",
   "execution_count": null,
   "metadata": {},
   "outputs": [],
   "source": [
    "# Python Comparison Operators\n",
    "\n",
    "x = 5\n",
    "y = 10\n",
    "\n",
    "print(x == y)   # False - Equal to\n",
    "print(x != y)   # True  - Not equal to\n",
    "print(x < y)    # True  - Less than\n",
    "print(x > y)    # False - Greater than\n",
    "print(x <= y)   # True  - Less than or equal\n",
    "print(x >= y)   # False - Greater than or equal"
   ]
  },
  {
   "cell_type": "markdown",
   "metadata": {},
   "source": [
    "### Type Conversion"
   ]
  },
  {
   "cell_type": "code",
   "execution_count": null,
   "metadata": {},
   "outputs": [],
   "source": [
    "# Python Type Conversion Examples\n",
    "\n",
    "# String to number\n",
    "age_string = \"25\"\n",
    "age_number = int(age_string)\n",
    "print(age_number + 5)  # 30\n",
    "\n",
    "# Number to string\n",
    "score = 100\n",
    "message = \"Your score is: \" + str(score)\n",
    "print(message)\n",
    "\n",
    "# String to float\n",
    "price = float(\"19.99\")\n",
    "print(price * 2)  # 39.98\n",
    "\n",
    "# Boolean conversions\n",
    "print(bool(1))     # True\n",
    "print(bool(0))     # False\n",
    "print(bool(\"\"))    # False (empty string)\n",
    "print(bool(\"Hi\"))  # True (non-empty string)"
   ]
  },
  {
   "cell_type": "markdown",
   "metadata": {},
   "source": [
    "### Type Conversion Challenge - What Happens?"
   ]
  },
  {
   "cell_type": "code",
   "execution_count": null,
   "metadata": {},
   "outputs": [],
   "source": [
    "# Python Type Conversion Experiments\n",
    "# Note: Python is more strict about type mixing than JavaScript\n",
    "\n",
    "# This will cause an error - can't concatenate string and int\n",
    "# \"5\" + 5  # TypeError!\n",
    "\n",
    "# Correct way - convert to same type\n",
    "print(\"5\" + str(5))    # \"55\" - string concatenation\n",
    "print(int(\"5\") + 5)    # 10 - numeric addition\n",
    "\n",
    "# Boolean arithmetic (True=1, False=0)\n",
    "print(True + 1)        # 2\n",
    "print(False + 1)       # 1\n",
    "\n",
    "# This will error - can't multiply string by string\n",
    "# \"hello\" * 2  # Works! Returns \"hellohello\"\n",
    "print(\"hello\" * 2)     # String repetition"
   ]
  },
  {
   "cell_type": "markdown",
   "metadata": {},
   "source": [
    "### Working with Numbers"
   ]
  },
  {
   "cell_type": "code",
   "execution_count": null,
   "metadata": {},
   "outputs": [],
   "source": [
    "# Python Math Module Operations\n",
    "import math\n",
    "import random\n",
    "\n",
    "# Random numbers\n",
    "print(random.random())                    # 0-1 random float\n",
    "print(random.random() * 100)              # 0-100 random float\n",
    "print(random.randint(0, 99))              # 0-99 random integer\n",
    "\n",
    "# Rounding\n",
    "print(round(3.7))          # 4 - rounds to nearest\n",
    "print(round(3.2))          # 3\n",
    "print(math.floor(3.9))     # 3 - always rounds down\n",
    "print(math.ceil(3.1))      # 4 - always rounds up\n",
    "\n",
    "# Min/Max\n",
    "print(min(5, 10, 3, 8))    # 3 - finds minimum\n",
    "print(max(5, 10, 3, 8))    # 10 - finds maximum\n",
    "\n",
    "# Power and roots\n",
    "print(math.pow(2, 3))      # 8.0 (2^3)\n",
    "print(2 ** 3)              # 8 - Python's exponent operator\n",
    "print(math.sqrt(16))       # 4.0 - square root\n",
    "\n",
    "# Absolute value\n",
    "print(abs(-5))             # 5 - makes negative positive\n",
    "\n",
    "# Constants\n",
    "print(math.pi)             # 3.14159...\n",
    "print(math.e)              # 2.718... (Euler's number)"
   ]
  },
  {
   "cell_type": "markdown",
   "metadata": {},
   "source": [
    "### Number Formatting"
   ]
  },
  {
   "cell_type": "code",
   "execution_count": null,
   "metadata": {},
   "outputs": [],
   "source": [
    "# Python Number Formatting\n",
    "\n",
    "num = 123.456789\n",
    "\n",
    "# Decimal places using f-strings\n",
    "print(f\"{num:.2f}\")           # \"123.46\" - 2 decimal places\n",
    "print(f\"{num:.4f}\")           # \"123.4568\" - 4 decimal places\n",
    "print(round(num, 2))          # 123.46 - round function\n",
    "\n",
    "# Formatting with commas\n",
    "price = 1234.56\n",
    "print(f\"${price:,.2f}\")       # \"$1,234.56\" - comma separator\n",
    "print(f\"€{price:_.2f}\")       # \"€1_234.56\" - underscore separator\n",
    "\n",
    "# Large numbers\n",
    "big_num = 1234567.89\n",
    "print(f\"{big_num:,.2f}\")      # \"1,234,567.89\""
   ]
  },
  {
   "cell_type": "markdown",
   "metadata": {},
   "source": [
    "### Tip Calculator Exercise"
   ]
  },
  {
   "cell_type": "code",
   "execution_count": null,
   "metadata": {},
   "outputs": [],
   "source": [
    "# tip_calculator.py\n",
    "print(\"=== Tip Calculator ===\")\n",
    "\n",
    "bill_amount = 50.00\n",
    "tip_percentage = 18\n",
    "\n",
    "tip_amount = bill_amount * (tip_percentage / 100)\n",
    "total_amount = bill_amount + tip_amount\n",
    "\n",
    "print(f\"Bill Amount: ${bill_amount:.2f}\")\n",
    "print(f\"Tip ({tip_percentage}%): ${tip_amount:.2f}\")\n",
    "print(f\"Total: ${total_amount:.2f}\")\n",
    "\n",
    "# Split bill\n",
    "number_of_people = 4\n",
    "per_person = total_amount / number_of_people\n",
    "print(f\"\\nPer person ({number_of_people} people): ${per_person:.2f}\")"
   ]
  },
  {
   "cell_type": "markdown",
   "metadata": {},
   "source": [
    "### Working with Strings"
   ]
  },
  {
   "cell_type": "code",
   "execution_count": null,
   "metadata": {},
   "outputs": [],
   "source": [
    "# Python String Basics\n",
    "\n",
    "# Creation (single or double quotes work the same)\n",
    "str1 = 'Single quotes'\n",
    "str2 = \"Double quotes\"\n",
    "str3 = f'F-string with {str1}'  # F-strings for interpolation\n",
    "\n",
    "# Concatenation\n",
    "first_name = \"Ada\"\n",
    "last_name = \"Lovelace\"\n",
    "full_name = first_name + \" \" + last_name\n",
    "full_name2 = f\"{first_name} {last_name}\"  # Better - more readable\n",
    "\n",
    "print(full_name)\n",
    "print(full_name2)\n",
    "\n",
    "# Length\n",
    "print(len(full_name))           # 12 - number of characters\n",
    "\n",
    "# Accessing characters (0-indexed)\n",
    "print(full_name[0])             # 'A' - first character\n",
    "print(full_name[-1])            # 'e' - last character (negative indexing!)\n",
    "print(full_name[-2])            # 'c' - second from last\n",
    "\n",
    "# Strings are immutable (can't change individual characters)\n",
    "text = \"hello\"\n",
    "# text[0] = \"H\"  # TypeError! Can't modify string\n",
    "text = \"H\" + text[1:]           # \"Hello\" - create new string instead"
   ]
  },
  {
   "cell_type": "markdown",
   "metadata": {},
   "source": [
    "### String Methods"
   ]
  },
  {
   "cell_type": "code",
   "execution_count": null,
   "metadata": {},
   "outputs": [],
   "source": [
    "# Python String Methods\n",
    "\n",
    "text = \"  Hello, World!  \"\n",
    "\n",
    "# Case conversion\n",
    "print(text.upper())             # \"  HELLO, WORLD!  \"\n",
    "print(text.lower())             # \"  hello, world!  \"\n",
    "print(text.title())             # \"  Hello, World!  \"\n",
    "print(text.capitalize())        # \"  hello, world!  \" - first letter only\n",
    "\n",
    "# Trimming whitespace\n",
    "print(text.strip())             # \"Hello, World!\" - removes both ends\n",
    "print(text.lstrip())            # \"Hello, World!  \" - left side only\n",
    "print(text.rstrip())            # \"  Hello, World!\" - right side only\n",
    "\n",
    "# Searching\n",
    "print(text.find(\"World\"))       # 9 - index of first occurrence\n",
    "print(text.find(\"xyz\"))         # -1 - not found\n",
    "print(\"World\" in text)          # True - membership test\n",
    "print(text.count(\"l\"))          # 3 - count occurrences\n",
    "\n",
    "# Replacing\n",
    "print(text.replace(\"World\", \"Python\"))  # \"  Hello, Python!  \"\n",
    "print(text.replace(\" \", \"\"))            # \"Hello,World!\" - remove spaces\n",
    "\n",
    "# Splitting and joining\n",
    "sentence = \"Python is awesome\"\n",
    "words = sentence.split()        # ['Python', 'is', 'awesome']\n",
    "print(words)\n",
    "\n",
    "csv_data = \"apple,banana,orange\"\n",
    "fruits = csv_data.split(\",\")    # ['apple', 'banana', 'orange']\n",
    "print(fruits)\n",
    "\n",
    "# Join list into string\n",
    "new_sentence = \" \".join(words)  # \"Python is awesome\"\n",
    "print(new_sentence)\n",
    "csv_output = \",\".join(fruits)   # \"apple,banana,orange\"\n",
    "print(csv_output)"
   ]
  },
  {
   "cell_type": "markdown",
   "metadata": {},
   "source": [
    "### String Methods - Checking"
   ]
  },
  {
   "cell_type": "code",
   "execution_count": null,
   "metadata": {},
   "outputs": [],
   "source": [
    "# Python String Checking Methods\n",
    "\n",
    "# Check string content\n",
    "print(\"hello\".isalpha())        # True - all letters\n",
    "print(\"hello123\".isalnum())     # True - letters and numbers\n",
    "print(\"12345\".isdigit())        # True - all digits\n",
    "print(\"   \".isspace())          # True - all whitespace\n",
    "\n",
    "# Check string case\n",
    "print(\"HELLO\".isupper())        # True - all uppercase\n",
    "print(\"hello\".islower())        # True - all lowercase\n",
    "print(\"Hello World\".istitle())  # True - title case\n",
    "\n",
    "# Check string start/end\n",
    "filename = \"document.pdf\"\n",
    "print(filename.startswith(\"doc\"))  # True\n",
    "print(filename.endswith(\".pdf\"))   # True\n",
    "print(filename.endswith(\".txt\"))   # False"
   ]
  },
  {
   "cell_type": "markdown",
   "metadata": {},
   "source": [
    "## Day 3: Control Flow - Making Decisions\n",
    "### Conditional Statements"
   ]
  },
  {
   "cell_type": "code",
   "execution_count": null,
   "metadata": {},
   "outputs": [],
   "source": [
    "# Python Conditional Statements\n",
    "# Note: Python uses 'elif' not 'else if'\n",
    "# Indentation is mandatory!\n",
    "\n",
    "age = 18\n",
    "\n",
    "if age >= 18:\n",
    "    print(\"You are an adult\")\n",
    "elif age >= 13:\n",
    "    print(\"You are a teenager\")\n",
    "else:\n",
    "    print(\"You are a child\")"
   ]
  },
  {
   "cell_type": "code",
   "execution_count": null,
   "metadata": {},
   "outputs": [],
   "source": [
    "# Nested conditionals\n",
    "temperature = 25\n",
    "is_raining = False\n",
    "\n",
    "if temperature > 20:\n",
    "    if is_raining:\n",
    "        print(\"Warm but rainy\")\n",
    "    else:\n",
    "        print(\"Nice weather!\")\n",
    "else:\n",
    "    print(\"It's cold\")"
   ]
  },
  {
   "cell_type": "markdown",
   "metadata": {},
   "source": [
    "### Logical Operators"
   ]
  },
  {
   "cell_type": "code",
   "execution_count": null,
   "metadata": {},
   "outputs": [],
   "source": [
    "# Python Logical Operators\n",
    "# Python uses 'and', 'or', 'not' (not &&, ||, !)\n",
    "\n",
    "age = 25\n",
    "has_license = True\n",
    "\n",
    "# AND operator\n",
    "if age >= 18 and has_license:\n",
    "    print(\"You can drive\")\n",
    "\n",
    "# OR operator\n",
    "is_weekend = True\n",
    "is_holiday = False\n",
    "\n",
    "if is_weekend or is_holiday:\n",
    "    print(\"No work today!\")\n",
    "\n",
    "# NOT operator\n",
    "is_raining = False\n",
    "if not is_raining:\n",
    "    print(\"Let's go outside\")"
   ]
  },
  {
   "cell_type": "markdown",
   "metadata": {},
   "source": [
    "### For Loops"
   ]
  },
  {
   "cell_type": "code",
   "execution_count": null,
   "metadata": {},
   "outputs": [],
   "source": [
    "# Python For Loops\n",
    "# Python's for loops are more like \"for each\" loops\n",
    "\n",
    "# Loop through a range of numbers\n",
    "# range(5) gives us 0, 1, 2, 3, 4\n",
    "for i in range(5):\n",
    "    print(f\"Count: {i}\")\n",
    "\n",
    "print(\"---\")\n",
    "\n",
    "# Range with start and end\n",
    "# range(1, 6) gives us 1, 2, 3, 4, 5\n",
    "for i in range(1, 6):\n",
    "    print(f\"Number: {i}\")"
   ]
  },
  {
   "cell_type": "code",
   "execution_count": null,
   "metadata": {},
   "outputs": [],
   "source": [
    "# Iterating over a list\n",
    "fruits = [\"apple\", \"banana\", \"orange\"]\n",
    "\n",
    "for fruit in fruits:\n",
    "    print(f\"I like {fruit}\")\n",
    "\n",
    "print(\"---\")\n",
    "\n",
    "# Loop with index using enumerate\n",
    "for index, fruit in enumerate(fruits):\n",
    "    print(f\"{index}: {fruit}\")"
   ]
  },
  {
   "cell_type": "markdown",
   "metadata": {},
   "source": [
    "### While Loops"
   ]
  },
  {
   "cell_type": "code",
   "execution_count": null,
   "metadata": {},
   "outputs": [],
   "source": [
    "# Python While Loops\n",
    "# Continues while condition is True\n",
    "\n",
    "count = 0\n",
    "while count < 5:\n",
    "    print(f\"Count is: {count}\")\n",
    "    count += 1  # Note: Python uses += not ++\n",
    "\n",
    "print(\"Loop finished!\")"
   ]
  },
  {
   "cell_type": "code",
   "execution_count": null,
   "metadata": {},
   "outputs": [],
   "source": [
    "# Break and Continue\n",
    "\n",
    "# Break - exits the loop\n",
    "for i in range(10):\n",
    "    if i == 5:\n",
    "        break  # Stop when we reach 5\n",
    "    print(i)\n",
    "\n",
    "print(\"---\")\n",
    "\n",
    "# Continue - skips to next iteration\n",
    "for i in range(10):\n",
    "    if i % 2 == 0:\n",
    "        continue  # Skip even numbers\n",
    "    print(i)  # Only odd numbers printed"
   ]
  },
  {
   "cell_type": "markdown",
   "metadata": {},
   "source": [
    "### FizzBuzz Challenge"
   ]
  },
  {
   "cell_type": "code",
   "execution_count": null,
   "metadata": {},
   "outputs": [],
   "source": [
    "# FizzBuzz - Classic Programming Challenge\n",
    "# Print numbers 1-100, but:\n",
    "# - Print \"Fizz\" for multiples of 3\n",
    "# - Print \"Buzz\" for multiples of 5\n",
    "# - Print \"FizzBuzz\" for multiples of both\n",
    "\n",
    "for num in range(1, 101):\n",
    "    if num % 3 == 0 and num % 5 == 0:\n",
    "        print(\"FizzBuzz\")\n",
    "    elif num % 3 == 0:\n",
    "        print(\"Fizz\")\n",
    "    elif num % 5 == 0:\n",
    "        print(\"Buzz\")\n",
    "    else:\n",
    "        print(num)"
   ]
  },
  {
   "cell_type": "markdown",
   "metadata": {},
   "source": [
    "## Day 4: Functions & Scope\n",
    "### Function Fundamentals"
   ]
  },
  {
   "cell_type": "code",
   "execution_count": null,
   "metadata": {},
   "outputs": [],
   "source": [
    "# Python Function Basics\n",
    "# Functions are defined with 'def' keyword\n",
    "\n",
    "# Simple function with no parameters\n",
    "def say_hello():\n",
    "    print(\"Hello!\")\n",
    "\n",
    "# Call the function\n",
    "say_hello()\n",
    "\n",
    "# Function with parameters\n",
    "def greet_person(name):\n",
    "    print(f\"Hello, {name}!\")\n",
    "\n",
    "greet_person(\"Alice\")\n",
    "\n",
    "# Function with return value\n",
    "def add(a, b):\n",
    "    return a + b\n",
    "\n",
    "result = add(5, 3)\n",
    "print(f\"5 + 3 = {result}\")"
   ]
  },
  {
   "cell_type": "markdown",
   "metadata": {},
   "source": [
    "### Default Parameters"
   ]
  },
  {
   "cell_type": "code",
   "execution_count": null,
   "metadata": {},
   "outputs": [],
   "source": [
    "# Python Default Parameters\n",
    "\n",
    "def greet(name, greeting=\"Hello\"):\n",
    "    return f\"{greeting}, {name}!\"\n",
    "\n",
    "# Use default greeting\n",
    "print(greet(\"Alice\"))  # Hello, Alice!\n",
    "\n",
    "# Provide custom greeting\n",
    "print(greet(\"Bob\", \"Hi\"))  # Hi, Bob!\n",
    "\n",
    "# Keyword arguments (can be in any order)\n",
    "print(greet(greeting=\"Hey\", name=\"Charlie\"))  # Hey, Charlie!"
   ]
  },
  {
   "cell_type": "markdown",
   "metadata": {},
   "source": [
    "### Multiple Return Values"
   ]
  },
  {
   "cell_type": "code",
   "execution_count": null,
   "metadata": {},
   "outputs": [],
   "source": [
    "# Python can return multiple values using tuples\n",
    "\n",
    "def get_name_and_age():\n",
    "    name = \"Alice\"\n",
    "    age = 25\n",
    "    return name, age  # Returns a tuple\n",
    "\n",
    "# Unpack the returned values\n",
    "person_name, person_age = get_name_and_age()\n",
    "print(f\"{person_name} is {person_age} years old\")\n",
    "\n",
    "# Or get as tuple\n",
    "result = get_name_and_age()\n",
    "print(result)  # ('Alice', 25)"
   ]
  },
  {
   "cell_type": "markdown",
   "metadata": {},
   "source": [
    "### Scope - Global vs Local"
   ]
  },
  {
   "cell_type": "code",
   "execution_count": null,
   "metadata": {},
   "outputs": [],
   "source": [
    "# Python Variable Scope\n",
    "\n",
    "# Global variable\n",
    "global_var = \"I'm global\"\n",
    "\n",
    "def test_scope():\n",
    "    # Local variable\n",
    "    local_var = \"I'm local\"\n",
    "    print(global_var)  # Can access global\n",
    "    print(local_var)   # Can access local\n",
    "\n",
    "test_scope()\n",
    "print(global_var)  # Works\n",
    "# print(local_var)  # Would cause error - not accessible outside function"
   ]
  },
  {
   "cell_type": "code",
   "execution_count": null,
   "metadata": {},
   "outputs": [],
   "source": [
    "# Modifying global variables from function\n",
    "\n",
    "counter = 0\n",
    "\n",
    "def increment():\n",
    "    global counter  # Need 'global' keyword to modify\n",
    "    counter += 1\n",
    "\n",
    "print(f\"Counter: {counter}\")  # 0\n",
    "increment()\n",
    "print(f\"Counter: {counter}\")  # 1\n",
    "increment()\n",
    "print(f\"Counter: {counter}\")  # 2"
   ]
  },
  {
   "cell_type": "markdown",
   "metadata": {},
   "source": [
    "### Lambda Functions"
   ]
  },
  {
   "cell_type": "code",
   "execution_count": null,
   "metadata": {},
   "outputs": [],
   "source": [
    "# Python Lambda Functions (Anonymous Functions)\n",
    "# Syntax: lambda parameters: expression\n",
    "\n",
    "# Regular function\n",
    "def square(x):\n",
    "    return x * x\n",
    "\n",
    "# Equivalent lambda\n",
    "square_lambda = lambda x: x * x\n",
    "\n",
    "print(square(5))         # 25\n",
    "print(square_lambda(5))  # 25\n",
    "\n",
    "# Lambda with multiple parameters\n",
    "add = lambda a, b: a + b\n",
    "print(add(3, 4))  # 7\n",
    "\n",
    "# Lambdas are often used with map, filter, sorted\n",
    "numbers = [1, 2, 3, 4, 5]\n",
    "squared = list(map(lambda x: x * x, numbers))\n",
    "print(squared)  # [1, 4, 9, 16, 25]"
   ]
  },
  {
   "cell_type": "markdown",
   "metadata": {},
   "source": [
    "### Temperature Converter Example"
   ]
  },
  {
   "cell_type": "code",
   "execution_count": null,
   "metadata": {},
   "outputs": [],
   "source": [
    "# Temperature Converter Utility Functions\n",
    "\n",
    "def celsius_to_fahrenheit(celsius):\n",
    "    \"\"\"Convert Celsius to Fahrenheit\"\"\"\n",
    "    return (celsius * 9/5) + 32\n",
    "\n",
    "def fahrenheit_to_celsius(fahrenheit):\n",
    "    \"\"\"Convert Fahrenheit to Celsius\"\"\"\n",
    "    return (fahrenheit - 32) * 5/9\n",
    "\n",
    "def celsius_to_kelvin(celsius):\n",
    "    \"\"\"Convert Celsius to Kelvin\"\"\"\n",
    "    return celsius + 273.15\n",
    "\n",
    "# Test the functions\n",
    "temp_c = 25\n",
    "print(f\"{temp_c}°C = {celsius_to_fahrenheit(temp_c)}°F\")\n",
    "print(f\"{temp_c}°C = {celsius_to_kelvin(temp_c)}K\")\n",
    "\n",
    "temp_f = 77\n",
    "print(f\"{temp_f}°F = {fahrenheit_to_celsius(temp_f)}°C\")"
   ]
  },
  {
   "cell_type": "markdown",
   "metadata": {},
   "source": [
    "### Password Validator Example"
   ]
  },
  {
   "cell_type": "code",
   "execution_count": null,
   "metadata": {},
   "outputs": [],
   "source": [
    "# Password Validator Function\n",
    "# Checks if password meets security requirements\n",
    "\n",
    "def validate_password(password):\n",
    "    \"\"\"\n",
    "    Validate password strength\n",
    "    Requirements:\n",
    "    - At least 8 characters\n",
    "    - Contains at least one number\n",
    "    - Contains at least one uppercase letter\n",
    "    \"\"\"\n",
    "    if len(password) < 8:\n",
    "        return False, \"Password must be at least 8 characters\"\n",
    "    \n",
    "    has_number = any(char.isdigit() for char in password)\n",
    "    if not has_number:\n",
    "        return False, \"Password must contain at least one number\"\n",
    "    \n",
    "    has_upper = any(char.isupper() for char in password)\n",
    "    if not has_upper:\n",
    "        return False, \"Password must contain at least one uppercase letter\"\n",
    "    \n",
    "    return True, \"Password is valid\"\n",
    "\n",
    "# Test the validator\n",
    "test_passwords = [\"weak\", \"stillweak1\", \"StrongPass1\"]\n",
    "\n",
    "for pwd in test_passwords:\n",
    "    is_valid, message = validate_password(pwd)\n",
    "    print(f\"{pwd}: {message}\")"
   ]
  },
  {
   "cell_type": "markdown",
   "metadata": {},
   "source": [
    "## Day 5: Testing & Week Review\n",
    "### Simple Testing Approach"
   ]
  },
  {
   "cell_type": "code",
   "execution_count": null,
   "metadata": {},
   "outputs": [],
   "source": [
    "# Simple Testing in Python\n",
    "# Using assertions to test functions\n",
    "\n",
    "def add(a, b):\n",
    "    return a + b\n",
    "\n",
    "def multiply(a, b):\n",
    "    return a * b\n",
    "\n",
    "# Simple tests using assertions\n",
    "def test_add():\n",
    "    assert add(2, 3) == 5, \"2 + 3 should equal 5\"\n",
    "    assert add(0, 0) == 0, \"0 + 0 should equal 0\"\n",
    "    assert add(-1, 1) == 0, \"-1 + 1 should equal 0\"\n",
    "    print(\"All add tests passed!\")\n",
    "\n",
    "def test_multiply():\n",
    "    assert multiply(2, 3) == 6, \"2 * 3 should equal 6\"\n",
    "    assert multiply(0, 5) == 0, \"0 * 5 should equal 0\"\n",
    "    assert multiply(-2, 3) == -6, \"-2 * 3 should equal -6\"\n",
    "    print(\"All multiply tests passed!\")\n",
    "\n",
    "# Run tests\n",
    "test_add()\n",
    "test_multiply()"
   ]
  },
  {
   "cell_type": "markdown",
   "metadata": {},
   "source": [
    "### Testing with Edge Cases"
   ]
  },
  {
   "cell_type": "code",
   "execution_count": null,
   "metadata": {},
   "outputs": [],
   "source": [
    "# Testing Edge Cases - Important for Robust Code\n",
    "# Edge cases are unusual or extreme inputs that might break your code\n",
    "\n",
    "def divide(a, b):\n",
    "    \"\"\"Divide two numbers with error handling\"\"\"\n",
    "    if b == 0:\n",
    "        return \"Error: Cannot divide by zero\"\n",
    "    return a / b\n",
    "\n",
    "def get_first_char(text):\n",
    "    \"\"\"Get the first character of a string\"\"\"\n",
    "    if not text:  # Check for empty string\n",
    "        return \"Error: Empty string\"\n",
    "    return text[0]\n",
    "\n",
    "# Test normal cases\n",
    "print(\"=== Normal Cases ===\")\n",
    "assert divide(10, 2) == 5.0\n",
    "assert get_first_char(\"Hello\") == \"H\"\n",
    "print(\"Normal cases passed!\")\n",
    "\n",
    "# Test edge cases\n",
    "print(\"\\n=== Edge Cases ===\")\n",
    "\n",
    "# Division by zero\n",
    "result = divide(10, 0)\n",
    "assert result == \"Error: Cannot divide by zero\"\n",
    "print(f\"divide(10, 0) = {result}\")\n",
    "\n",
    "# Empty string\n",
    "result = get_first_char(\"\")\n",
    "assert result == \"Error: Empty string\"\n",
    "print(f\"get_first_char('') = {result}\")\n",
    "\n",
    "# Negative numbers\n",
    "assert divide(-10, 2) == -5.0\n",
    "print(f\"divide(-10, 2) = {divide(-10, 2)}\")\n",
    "\n",
    "# Very small numbers\n",
    "assert divide(1, 1000) == 0.001\n",
    "print(f\"divide(1, 1000) = {divide(1, 1000)}\")\n",
    "\n",
    "print(\"\\nAll edge case tests passed!\")"
   ]
  },
  {
   "cell_type": "markdown",
   "metadata": {},
   "source": [
    "### Testing String Functions"
   ]
  },
  {
   "cell_type": "code",
   "execution_count": null,
   "metadata": {},
   "outputs": [],
   "source": [
    "# Testing String Manipulation Functions\n",
    "\n",
    "def count_vowels(text):\n",
    "    \"\"\"Count the number of vowels in a string\"\"\"\n",
    "    vowels = \"aeiouAEIOU\"\n",
    "    count = 0\n",
    "    for char in text:\n",
    "        if char in vowels:\n",
    "            count += 1\n",
    "    return count\n",
    "\n",
    "def reverse_string(text):\n",
    "    \"\"\"Reverse a string\"\"\"\n",
    "    return text[::-1]\n",
    "\n",
    "def is_palindrome(text):\n",
    "    \"\"\"Check if a string is a palindrome (reads same forwards and backwards)\"\"\"\n",
    "    # Remove spaces and convert to lowercase for comparison\n",
    "    cleaned = text.replace(\" \", \"\").lower()\n",
    "    return cleaned == cleaned[::-1]\n",
    "\n",
    "# Test count_vowels\n",
    "print(\"=== Testing count_vowels ===\")\n",
    "assert count_vowels(\"hello\") == 2  # e, o\n",
    "assert count_vowels(\"HELLO\") == 2  # E, O\n",
    "assert count_vowels(\"xyz\") == 0    # no vowels\n",
    "assert count_vowels(\"aeiou\") == 5  # all vowels\n",
    "assert count_vowels(\"\") == 0       # empty string\n",
    "print(\"✓ All count_vowels tests passed!\")\n",
    "\n",
    "# Test reverse_string\n",
    "print(\"\\n=== Testing reverse_string ===\")\n",
    "assert reverse_string(\"hello\") == \"olleh\"\n",
    "assert reverse_string(\"Python\") == \"nohtyP\"\n",
    "assert reverse_string(\"a\") == \"a\"\n",
    "assert reverse_string(\"\") == \"\"\n",
    "print(\"✓ All reverse_string tests passed!\")\n",
    "\n",
    "# Test is_palindrome\n",
    "print(\"\\n=== Testing is_palindrome ===\")\n",
    "assert is_palindrome(\"racecar\") == True\n",
    "assert is_palindrome(\"hello\") == False\n",
    "assert is_palindrome(\"A man a plan a canal Panama\") == True\n",
    "assert is_palindrome(\"Was it a car or a cat I saw\") == True\n",
    "print(\"✓ All is_palindrome tests passed!\")\n",
    "\n",
    "print(\"\\n🎉 All string function tests passed!\")"
   ]
  },
  {
   "cell_type": "markdown",
   "metadata": {},
   "source": [
    "### Testing a Real-World Function"
   ]
  },
  {
   "cell_type": "code",
   "execution_count": null,
   "metadata": {},
   "outputs": [],
   "source": [
    "# Testing a Grade Calculator Function\n",
    "\n",
    "def calculate_grade(score):\n",
    "    \"\"\"\n",
    "    Convert a numeric score (0-100) to a letter grade\n",
    "    A: 90-100, B: 80-89, C: 70-79, D: 60-69, F: 0-59\n",
    "    \"\"\"\n",
    "    if score < 0 or score > 100:\n",
    "        return \"Invalid score\"\n",
    "    elif score >= 90:\n",
    "        return \"A\"\n",
    "    elif score >= 80:\n",
    "        return \"B\"\n",
    "    elif score >= 70:\n",
    "        return \"C\"\n",
    "    elif score >= 60:\n",
    "        return \"D\"\n",
    "    else:\n",
    "        return \"F\"\n",
    "\n",
    "def test_calculate_grade():\n",
    "    \"\"\"Comprehensive test suite for calculate_grade function\"\"\"\n",
    "    print(\"=== Testing Grade Calculator ===\")\n",
    "    \n",
    "    # Test A grades\n",
    "    assert calculate_grade(100) == \"A\", \"Perfect score should be A\"\n",
    "    assert calculate_grade(95) == \"A\", \"95 should be A\"\n",
    "    assert calculate_grade(90) == \"A\", \"90 should be A (boundary)\"\n",
    "    \n",
    "    # Test B grades\n",
    "    assert calculate_grade(89) == \"B\", \"89 should be B (boundary)\"\n",
    "    assert calculate_grade(85) == \"B\", \"85 should be B\"\n",
    "    assert calculate_grade(80) == \"B\", \"80 should be B (boundary)\"\n",
    "    \n",
    "    # Test C grades\n",
    "    assert calculate_grade(79) == \"C\", \"79 should be C (boundary)\"\n",
    "    assert calculate_grade(75) == \"C\", \"75 should be C\"\n",
    "    assert calculate_grade(70) == \"C\", \"70 should be C (boundary)\"\n",
    "    \n",
    "    # Test D grades\n",
    "    assert calculate_grade(69) == \"D\", \"69 should be D (boundary)\"\n",
    "    assert calculate_grade(65) == \"D\", \"65 should be D\"\n",
    "    assert calculate_grade(60) == \"D\", \"60 should be D (boundary)\"\n",
    "    \n",
    "    # Test F grades\n",
    "    assert calculate_grade(59) == \"F\", \"59 should be F (boundary)\"\n",
    "    assert calculate_grade(50) == \"F\", \"50 should be F\"\n",
    "    assert calculate_grade(0) == \"F\", \"0 should be F\"\n",
    "    \n",
    "    # Test invalid inputs\n",
    "    assert calculate_grade(-1) == \"Invalid score\", \"Negative should be invalid\"\n",
    "    assert calculate_grade(101) == \"Invalid score\", \"Over 100 should be invalid\"\n",
    "    \n",
    "    print(\"✓ All 20 grade calculator tests passed!\")\n",
    "    return True\n",
    "\n",
    "# Run the comprehensive test\n",
    "test_calculate_grade()\n",
    "\n",
    "# Show some examples\n",
    "print(\"\\n=== Example Grade Conversions ===\")\n",
    "test_scores = [100, 85, 72, 68, 45]\n",
    "for score in test_scores:\n",
    "    grade = calculate_grade(score)\n",
    "    print(f\"Score: {score} → Grade: {grade}\")"
   ]
  },
  {
   "cell_type": "markdown",
   "metadata": {},
   "source": [
    "### Testing Best Practices"
   ]
  },
  {
   "cell_type": "code",
   "execution_count": null,
   "metadata": {},
   "outputs": [],
   "source": [
    "# Testing Best Practices Summary\n",
    "\n",
    "print(\"=== Testing Best Practices ===\")\n",
    "print(\"\"\"\n",
    "1. Test Normal Cases (Happy Path)\n",
    "   - Test with typical, expected inputs\n",
    "   - Example: divide(10, 2) should return 5.0\n",
    "\n",
    "2. Test Edge Cases\n",
    "   - Empty inputs (empty strings, empty lists)\n",
    "   - Zero values\n",
    "   - Negative numbers\n",
    "   - Very large or very small numbers\n",
    "   - Boundary values (e.g., score = 90 for grade A)\n",
    "\n",
    "3. Test Error Conditions\n",
    "   - Invalid inputs\n",
    "   - Operations that should fail (division by zero)\n",
    "   - Out-of-range values\n",
    "\n",
    "4. Use Descriptive Error Messages\n",
    "   - Good: assert score >= 0, \\\"Score must be non-negative\\\"\n",
    "   - Bad: assert score >= 0\n",
    "\n",
    "5. Test One Thing at a Time\n",
    "   - Each test should check one specific behavior\n",
    "   - Makes it easier to find bugs\n",
    "\n",
    "6. Keep Tests Simple and Readable\n",
    "   - Tests are documentation for your code\n",
    "   - Other developers should understand what you're testing\n",
    "\n",
    "Why Testing Matters:\n",
    "✓ Catches bugs early\n",
    "✓ Makes code changes safer\n",
    "✓ Documents how code should work\n",
    "✓ Gives confidence in your code\n",
    "✓ Saves debugging time later\n",
    "\"\"\")"
   ]
  },
  {
   "cell_type": "markdown",
   "metadata": {},
   "source": [
    "## Complete Integration Example\n",
    "### Calculator with All Concepts"
   ]
  },
  {
   "cell_type": "code",
   "execution_count": null,
   "metadata": {},
   "outputs": [],
   "source": [
    "# Complete Calculator - Integrating All Week 2 Concepts\n",
    "\n",
    "def calculator():\n",
    "    \"\"\"\n",
    "    Simple calculator with menu system\n",
    "    Demonstrates: functions, loops, conditionals, input/output\n",
    "    \"\"\"\n",
    "    \n",
    "    def add(a, b):\n",
    "        return a + b\n",
    "    \n",
    "    def subtract(a, b):\n",
    "        return a - b\n",
    "    \n",
    "    def multiply(a, b):\n",
    "        return a * b\n",
    "    \n",
    "    def divide(a, b):\n",
    "        if b == 0:\n",
    "            return \"Error: Division by zero\"\n",
    "        return a / b\n",
    "    \n",
    "    print(\"=== Simple Calculator ===\")\n",
    "    \n",
    "    while True:\n",
    "        print(\"\\nOperations:\")\n",
    "        print(\"1. Add\")\n",
    "        print(\"2. Subtract\")\n",
    "        print(\"3. Multiply\")\n",
    "        print(\"4. Divide\")\n",
    "        print(\"5. Exit\")\n",
    "        \n",
    "        choice = input(\"Choose operation (1-5): \")\n",
    "        \n",
    "        if choice == \"5\":\n",
    "            print(\"Goodbye!\")\n",
    "            break\n",
    "        \n",
    "        if choice not in [\"1\", \"2\", \"3\", \"4\"]:\n",
    "            print(\"Invalid choice\")\n",
    "            continue\n",
    "        \n",
    "        num1 = float(input(\"Enter first number: \"))\n",
    "        num2 = float(input(\"Enter second number: \"))\n",
    "        \n",
    "        if choice == \"1\":\n",
    "            result = add(num1, num2)\n",
    "            operation = \"+\"\n",
    "        elif choice == \"2\":\n",
    "            result = subtract(num1, num2)\n",
    "            operation = \"-\"\n",
    "        elif choice == \"3\":\n",
    "            result = multiply(num1, num2)\n",
    "            operation = \"*\"\n",
    "        else:\n",
    "            result = divide(num1, num2)\n",
    "            operation = \"/\"\n",
    "        \n",
    "        print(f\"\\nResult: {num1} {operation} {num2} = {result}\")\n",
    "\n",
    "# Uncomment to run the calculator\n",
    "# calculator()"
   ]
  },
  {
   "cell_type": "markdown",
   "metadata": {},
   "source": [
    "## Summary\n",
    "\n",
    "This notebook covered:\n",
    "- **Day 1**: Python basics, REPL, first programs\n",
    "- **Day 2**: Variables, data types, operators, type conversion\n",
    "- **Day 3**: Control flow (if/else), logical operators, loops (for/while)\n",
    "- **Day 4**: Functions, parameters, scope, lambda functions\n",
    "- **Day 5**: Testing basics and integration\n",
    "\n",
    "### Key Python Characteristics:\n",
    "- Uses **indentation** instead of curly braces\n",
    "- Uses **`def`** for function definitions\n",
    "- Uses **`elif`** not \"else if\"\n",
    "- Uses **`and`, `or`, `not`** for logical operators\n",
    "- No semicolons needed\n",
    "- **snake_case** naming convention\n",
    "- **Dynamic typing** - no type declarations\n",
    "\n",
    "### Practice Resources:\n",
    "- Python Official Tutorial: https://docs.python.org/3/tutorial/\n",
    "- Real Python: https://realpython.com/\n",
    "- Exercism Python Track: https://exercism.org/tracks/python"
   ]
  }
 ],
 "metadata": {
  "kernelspec": {
   "display_name": "Python 3",
   "language": "python",
   "name": "python3"
  },
  "language_info": {
   "codemirror_mode": {
    "name": "ipython",
    "version": 3
   },
   "file_extension": ".py",
   "mimetype": "text/x-python",
   "name": "python",
   "nbconvert_exporter": "python",
   "pygments_lexer": "ipython3",
   "version": "3.9.0"
  }
 },
 "nbformat": 4,
 "nbformat_minor": 4
}