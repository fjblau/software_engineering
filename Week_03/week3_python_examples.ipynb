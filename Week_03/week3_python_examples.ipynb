{
 "cells": [
  {
   "cell_type": "markdown",
   "metadata": {},
   "source": [
    "# Week 3: Understanding Data Architecture - Python Examples\n",
    "## Topics: JSON, Data Structures, Data Architecture Fundamentals"
   ]
  },
  {
   "cell_type": "markdown",
   "metadata": {},
   "source": [
    "## 1. Working with JSON Data"
   ]
  },
  {
   "cell_type": "code",
   "execution_count": null,
   "metadata": {},
   "outputs": [],
   "source": [
    "import json\n",
    "\n",
    "# Python dictionary (similar to JSON)\n",
    "user = {\n",
    "    \"id\": 1,\n",
    "    \"name\": \"Maria Schmidt\",\n",
    "    \"email\": \"maria@example.com\",\n",
    "    \"address\": {\n",
    "        \"street\": \"Hauptstraße 10\",\n",
    "        \"city\": \"Feldkirch\",\n",
    "        \"country\": \"Austria\"\n",
    "    },\n",
    "    \"orders\": [\n",
    "        {\"id\": 101, \"total\": 49.99, \"date\": \"2025-03-01\"},\n",
    "        {\"id\": 102, \"total\": 89.50, \"date\": \"2025-03-05\"}\n",
    "    ]\n",
    "}\n",
    "\n",
    "print(\"User object:\", user)\n",
    "print(\"User name:\", user[\"name\"])\n",
    "\n",
    "# Converting to JSON string\n",
    "json_string = json.dumps(user, indent=2)\n",
    "print(\"\\nJSON string representation:\")\n",
    "print(json_string)\n",
    "\n",
    "# Parsing JSON string back to dictionary\n",
    "parsed_user = json.loads(json_string)\n",
    "print(\"\\nParsed user from JSON:\", parsed_user[\"name\"])\n",
    "\n",
    "# Accessing nested data\n",
    "print(\"User's city:\", user[\"address\"][\"city\"])\n",
    "print(\"First order total:\", user[\"orders\"][0][\"total\"])"
   ]
  },
  {
   "cell_type": "markdown",
   "metadata": {},
   "source": [
    "## 2. Product Catalog Example"
   ]
  },
  {
   "cell_type": "code",
   "execution_count": null,
   "metadata": {},
   "outputs": [],
   "source": [
    "product_catalog = {\n",
    "    \"store\": \"TechStore\",\n",
    "    \"products\": [\n",
    "        {\n",
    "            \"id\": 1,\n",
    "            \"name\": \"Laptop\",\n",
    "            \"price\": 999.99,\n",
    "            \"stock\": 15,\n",
    "            \"category\": \"Electronics\",\n",
    "            \"in_stock\": True\n",
    "        },\n",
    "        {\n",
    "            \"id\": 2,\n",
    "            \"name\": \"Mouse\",\n",
    "            \"price\": 29.99,\n",
    "            \"stock\": 0,\n",
    "            \"category\": \"Accessories\",\n",
    "            \"in_stock\": False\n",
    "        },\n",
    "        {\n",
    "            \"id\": 3,\n",
    "            \"name\": \"Keyboard\",\n",
    "            \"price\": 79.99,\n",
    "            \"stock\": 8,\n",
    "            \"category\": \"Accessories\",\n",
    "            \"in_stock\": True\n",
    "        }\n",
    "    ]\n",
    "}\n",
    "\n",
    "print(\"Store:\", product_catalog[\"store\"])\n",
    "print(\"Number of products:\", len(product_catalog[\"products\"]))\n",
    "\n",
    "# Access specific product\n",
    "laptop = product_catalog[\"products\"][0]\n",
    "print(f\"Product: {laptop['name']}, Price: ${laptop['price']}, In Stock: {laptop['in_stock']}\")\n",
    "\n",
    "# Find products in stock\n",
    "in_stock_products = [p for p in product_catalog[\"products\"] if p[\"in_stock\"]]\n",
    "product_names = \", \".join([p[\"name\"] for p in in_stock_products])\n",
    "print(f\"In-stock products: {product_names}\")"
   ]
  },
  {
   "cell_type": "markdown",
   "metadata": {},
   "source": [
    "## 3. Blog Posts with Comments"
   ]
  },
  {
   "cell_type": "code",
   "execution_count": null,
   "metadata": {},
   "outputs": [],
   "source": [
    "blog_post = {\n",
    "    \"id\": 1,\n",
    "    \"title\": \"Introduction to Data Architecture\",\n",
    "    \"author\": \"Jane Developer\",\n",
    "    \"date\": \"2025-03-03\",\n",
    "    \"content\": \"Data architecture is the foundation of modern applications...\",\n",
    "    \"tags\": [\"database\", \"architecture\", \"data\"],\n",
    "    \"comments\": [\n",
    "        {\n",
    "            \"id\": 1,\n",
    "            \"author\": \"John Reader\",\n",
    "            \"text\": \"Great explanation!\",\n",
    "            \"timestamp\": \"2025-03-03 10:30\"\n",
    "        },\n",
    "        {\n",
    "            \"id\": 2,\n",
    "            \"author\": \"Sarah Student\",\n",
    "            \"text\": \"This really helped me understand schemas.\",\n",
    "            \"timestamp\": \"2025-03-03 14:15\"\n",
    "        }\n",
    "    ]\n",
    "}\n",
    "\n",
    "print(f\"Post: \\\"{blog_post['title']}\\\" by {blog_post['author']}\")\n",
    "print(f\"Tags: {', '.join(blog_post['tags'])}\")\n",
    "print(f\"Comments: {len(blog_post['comments'])}\")\n",
    "\n",
    "# Display comments\n",
    "for comment in blog_post[\"comments\"]:\n",
    "    print(f\"  - {comment['author']}: {comment['text']}\")"
   ]
  },
  {
   "cell_type": "markdown",
   "metadata": {},
   "source": [
    "## 4. Understanding Data Types"
   ]
  },
  {
   "cell_type": "code",
   "execution_count": null,
   "metadata": {},
   "outputs": [],
   "source": [
    "data_types_example = {\n",
    "    \"string_example\": \"Text data\",\n",
    "    \"number_example\": 42,\n",
    "    \"float_example\": 3.14,\n",
    "    \"boolean_example\": True,\n",
    "    \"none_example\": None,\n",
    "    \"list_example\": [1, 2, 3],\n",
    "    \"dict_example\": {\"nested\": \"data\"},\n",
    "    \"date_string\": \"2025-03-01\"\n",
    "}\n",
    "\n",
    "print(\"Data types in Python/JSON:\")\n",
    "for key, value in data_types_example.items():\n",
    "    print(f\"{key}: {type(value).__name__} = {value}\")"
   ]
  },
  {
   "cell_type": "markdown",
   "metadata": {},
   "source": [
    "## 5. Converting Between Formats"
   ]
  },
  {
   "cell_type": "code",
   "execution_count": null,
   "metadata": {},
   "outputs": [],
   "source": [
    "import csv\n",
    "from io import StringIO\n",
    "\n",
    "# Sample data\n",
    "records = [\n",
    "    {\"id\": 1, \"name\": \"Alice\", \"department\": \"Engineering\"},\n",
    "    {\"id\": 2, \"name\": \"Bob\", \"department\": \"Sales\"},\n",
    "    {\"id\": 3, \"name\": \"Charlie\", \"department\": \"Engineering\"}\n",
    "]\n",
    "\n",
    "# Convert Python list to CSV string\n",
    "def convert_to_csv(data):\n",
    "    output = StringIO()\n",
    "    if not data:\n",
    "        return \"\"\n",
    "    \n",
    "    writer = csv.DictWriter(output, fieldnames=data[0].keys())\n",
    "    writer.writeheader()\n",
    "    writer.writerows(data)\n",
    "    return output.getvalue()\n",
    "\n",
    "csv_string = convert_to_csv(records)\n",
    "print(\"CSV format:\")\n",
    "print(csv_string)\n",
    "\n",
    "# JSON representation\n",
    "print(\"JSON format:\")\n",
    "print(json.dumps(records, indent=2))"
   ]
  },
  {
   "cell_type": "markdown",
   "metadata": {},
   "source": [
    "## 6. Entity-Relationship Concepts"
   ]
  },
  {
   "cell_type": "code",
   "execution_count": null,
   "metadata": {},
   "outputs": [],
   "source": [
    "# Simulating a one-to-many relationship (User has many Orders)\n",
    "ecommerce_data = {\n",
    "    \"users\": [\n",
    "        {\"id\": 1, \"name\": \"Maria Schmidt\", \"email\": \"maria@example.com\"},\n",
    "        {\"id\": 2, \"name\": \"Hans Mueller\", \"email\": \"hans@example.com\"}\n",
    "    ],\n",
    "    \"orders\": [\n",
    "        {\"id\": 101, \"user_id\": 1, \"total\": 49.99, \"status\": \"completed\"},\n",
    "        {\"id\": 102, \"user_id\": 1, \"total\": 89.50, \"status\": \"pending\"},\n",
    "        {\"id\": 103, \"user_id\": 2, \"total\": 120.00, \"status\": \"completed\"}\n",
    "    ]\n",
    "}\n",
    "\n",
    "# Find orders for a specific user\n",
    "def get_orders_for_user(user_id):\n",
    "    return [order for order in ecommerce_data[\"orders\"] if order[\"user_id\"] == user_id]\n",
    "\n",
    "maria_orders = get_orders_for_user(1)\n",
    "print(\"Maria's orders:\", maria_orders)\n",
    "\n",
    "total_spent = sum(order[\"total\"] for order in maria_orders)\n",
    "print(f\"Total spent: ${total_spent:.2f}\")"
   ]
  },
  {
   "cell_type": "markdown",
   "metadata": {},
   "source": [
    "## 7. Data Validation"
   ]
  },
  {
   "cell_type": "code",
   "execution_count": null,
   "metadata": {},
   "outputs": [],
   "source": [
    "# Simple validation function\n",
    "def validate_user(user):\n",
    "    errors = []\n",
    "    \n",
    "    if not user.get(\"name\") or user.get(\"name\").strip() == \"\":\n",
    "        errors.append(\"Name is required\")\n",
    "    \n",
    "    email = user.get(\"email\", \"\")\n",
    "    if not email or \"@\" not in email:\n",
    "        errors.append(\"Valid email is required\")\n",
    "    \n",
    "    age = user.get(\"age\")\n",
    "    if age is not None and (age < 0 or age > 150):\n",
    "        errors.append(\"Age must be between 0 and 150\")\n",
    "    \n",
    "    return {\n",
    "        \"is_valid\": len(errors) == 0,\n",
    "        \"errors\": errors\n",
    "    }\n",
    "\n",
    "valid_user = {\"name\": \"Alice\", \"email\": \"alice@example.com\", \"age\": 28}\n",
    "invalid_user = {\"name\": \"\", \"email\": \"invalid\", \"age\": 200}\n",
    "\n",
    "print(\"Valid user validation:\", validate_user(valid_user))\n",
    "print(\"Invalid user validation:\", validate_user(invalid_user))"
   ]
  },
  {
   "cell_type": "markdown",
   "metadata": {},
   "source": [
    "## 8. Database Schema Concepts"
   ]
  },
  {
   "cell_type": "code",
   "execution_count": null,
   "metadata": {},
   "outputs": [],
   "source": [
    "# Demonstrating normalized data structure (no redundancy)\n",
    "normalized_schema = {\n",
    "    \"description\": \"E-Commerce Database Schema\",\n",
    "    \"tables\": {\n",
    "        \"users\": {\n",
    "            \"fields\": [\n",
    "                {\"name\": \"id\", \"type\": \"INTEGER\", \"constraints\": \"PRIMARY KEY\"},\n",
    "                {\"name\": \"name\", \"type\": \"VARCHAR(100)\", \"constraints\": \"NOT NULL\"},\n",
    "                {\"name\": \"email\", \"type\": \"VARCHAR(100)\", \"constraints\": \"UNIQUE, NOT NULL\"},\n",
    "                {\"name\": \"created_at\", \"type\": \"DATE\", \"constraints\": \"\"}\n",
    "            ]\n",
    "        },\n",
    "        \"products\": {\n",
    "            \"fields\": [\n",
    "                {\"name\": \"id\", \"type\": \"INTEGER\", \"constraints\": \"PRIMARY KEY\"},\n",
    "                {\"name\": \"name\", \"type\": \"VARCHAR(100)\", \"constraints\": \"NOT NULL\"},\n",
    "                {\"name\": \"price\", \"type\": \"DECIMAL(10,2)\", \"constraints\": \"NOT NULL\"},\n",
    "                {\"name\": \"stock\", \"type\": \"INTEGER\", \"constraints\": \"NOT NULL\"}\n",
    "            ]\n",
    "        },\n",
    "        \"orders\": {\n",
    "            \"fields\": [\n",
    "                {\"name\": \"id\", \"type\": \"INTEGER\", \"constraints\": \"PRIMARY KEY\"},\n",
    "                {\"name\": \"user_id\", \"type\": \"INTEGER\", \"constraints\": \"FOREIGN KEY -> users\"},\n",
    "                {\"name\": \"total\", \"type\": \"DECIMAL(10,2)\", \"constraints\": \"NOT NULL\"},\n",
    "                {\"name\": \"status\", \"type\": \"VARCHAR(20)\", \"constraints\": \"NOT NULL\"}\n",
    "            ]\n",
    "        }\n",
    "    }\n",
    "}\n",
    "\n",
    "print(\"Schema structure:\")\n",
    "print(f\"Store: {normalized_schema['description']}\")\n",
    "\n",
    "for table_name, table in normalized_schema[\"tables\"].items():\n",
    "    print(f\"\\nTable: {table_name}\")\n",
    "    for field in table[\"fields\"]:\n",
    "        print(f\"  - {field['name']} ({field['type']}) {field['constraints']}\")"
   ]
  },
  {
   "cell_type": "markdown",
   "metadata": {},
   "source": [
    "## 9. SQL vs NoSQL Comparison (Conceptual)"
   ]
  },
  {
   "cell_type": "code",
   "execution_count": null,
   "metadata": {},
   "outputs": [],
   "source": [
    "comparison = {\n",
    "    \"SQL\": {\n",
    "        \"structure\": \"Structured (Tables, Rows, Columns)\",\n",
    "        \"schema\": \"Fixed schema\",\n",
    "        \"relationships\": \"Foreign keys and joins\",\n",
    "        \"scalability\": \"Vertical scaling\",\n",
    "        \"examples\": [\"PostgreSQL\", \"MySQL\", \"Oracle\"],\n",
    "        \"best_for\": [\"Financial data\", \"Complex queries\", \"Data integrity\"]\n",
    "    },\n",
    "    \"NoSQL\": {\n",
    "        \"structure\": \"Flexible (Documents, Key-Value)\",\n",
    "        \"schema\": \"Schema-less\",\n",
    "        \"relationships\": \"Denormalized data\",\n",
    "        \"scalability\": \"Horizontal scaling\",\n",
    "        \"examples\": [\"MongoDB\", \"Redis\", \"DynamoDB\"],\n",
    "        \"best_for\": [\"Real-time data\", \"Flexible schemas\", \"High volume\"]\n",
    "    }\n",
    "}\n",
    "\n",
    "print(\"SQL Databases:\")\n",
    "for key, value in comparison[\"SQL\"].items():\n",
    "    if isinstance(value, list):\n",
    "        print(f\"  {key}: {', '.join(value)}\")\n",
    "    else:\n",
    "        print(f\"  {key}: {value}\")\n",
    "\n",
    "print(\"\\nNoSQL Databases:\")\n",
    "for key, value in comparison[\"NoSQL\"].items():\n",
    "    if isinstance(value, list):\n",
    "        print(f\"  {key}: {', '.join(value)}\")\n",
    "    else:\n",
    "        print(f\"  {key}: {value}\")"
   ]
  },
  {
   "cell_type": "markdown",
   "metadata": {},
   "source": [
    "## 10. Practical Exercise: Parse Real Data"
   ]
  },
  {
   "cell_type": "code",
   "execution_count": null,
   "metadata": {},
   "outputs": [],
   "source": [
    "# Simulating parsing an API response\n",
    "api_response = '''{\n",
    "  \"status\": \"success\",\n",
    "  \"data\": {\n",
    "    \"temperature\": 22.5,\n",
    "    \"humidity\": 65,\n",
    "    \"condition\": \"Cloudy\",\n",
    "    \"location\": \"Vienna, Austria\"\n",
    "  }\n",
    "}'''\n",
    "\n",
    "# Parse the JSON response\n",
    "response_data = json.loads(api_response)\n",
    "\n",
    "print(\"API Response:\")\n",
    "print(f\"Status: {response_data['status']}\")\nprint(f\"Location: {response_data['data']['location']}\")\nprint(f\"Temperature: {response_data['data']['temperature']}°C\")\nprint(f\"Humidity: {response_data['data']['humidity']}%\")\nprint(f\"Condition: {response_data['data']['condition']}\")"
   ]
  }
 ],
 "metadata": {
  "kernelspec": {
   "display_name": "Python 3",
   "language": "python",
   "name": "python3"
  },
  "language_info": {
   "codemirror_mode": {
    "name": "ipython",
    "version": 3
   },
   "file_extension": ".py",
   "mimetype": "text/x-python",
   "name": "python",
   "nbconvert_exporter": "python",
   "pygments_lexer": "ipython3",
   "version": "3.8.0"
  }
 },
 "nbformat": 4,
 "nbformat_minor": 4
}